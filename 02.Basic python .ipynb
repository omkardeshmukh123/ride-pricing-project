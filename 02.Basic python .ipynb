{
 "cells": [
  {
   "cell_type": "code",
   "execution_count": 1,
   "id": "bdc8ad4d-0c5b-414e-bba9-64ee75f1053e",
   "metadata": {},
   "outputs": [],
   "source": [
    "ride_destination = \"Koregaon_Park\""
   ]
  },
  {
   "cell_type": "code",
   "execution_count": 2,
   "id": "47d03ce1-9e06-40c0-96ee-d93b3c8aed7d",
   "metadata": {},
   "outputs": [],
   "source": [
    "distance_in_km = 5"
   ]
  },
  {
   "cell_type": "code",
   "execution_count": 3,
   "id": "3dfbb4f1-fa04-4a62-8321-186f18ec9ba4",
   "metadata": {},
   "outputs": [],
   "source": [
    "base_flare = 45.50"
   ]
  },
  {
   "cell_type": "code",
   "execution_count": 4,
   "id": "86a75b12-d22c-4a61-97cc-58f754c77249",
   "metadata": {},
   "outputs": [],
   "source": [
    "is_raining = True"
   ]
  },
  {
   "cell_type": "code",
   "execution_count": 5,
   "id": "41522b58-88db-4189-a52d-b884a57cb54f",
   "metadata": {},
   "outputs": [
    {
     "name": "stdout",
     "output_type": "stream",
     "text": [
      "Koregaon_Park\n"
     ]
    }
   ],
   "source": [
    "print(ride_destination)"
   ]
  },
  {
   "cell_type": "code",
   "execution_count": 6,
   "id": "4269c06c-a689-4789-874b-abdc2b54b9da",
   "metadata": {},
   "outputs": [],
   "source": [
    "available_drivers = [\"omkar\",\"Disha\"]"
   ]
  },
  {
   "cell_type": "code",
   "execution_count": 7,
   "id": "d0aa08d8-4475-49d2-a3af-55b94f513e05",
   "metadata": {},
   "outputs": [
    {
     "name": "stdout",
     "output_type": "stream",
     "text": [
      "['omkar', 'Disha']\n"
     ]
    }
   ],
   "source": [
    "print(available_drivers)\n"
   ]
  },
  {
   "cell_type": "code",
   "execution_count": 8,
   "id": "772fbcb9-9c10-48a0-aca3-150129018271",
   "metadata": {},
   "outputs": [],
   "source": [
    "first_driver = available_drivers[0]"
   ]
  },
  {
   "cell_type": "code",
   "execution_count": 9,
   "id": "3f2e79ae-93d2-4352-885e-e65984a76276",
   "metadata": {},
   "outputs": [
    {
     "name": "stdout",
     "output_type": "stream",
     "text": [
      "omkar\n"
     ]
    }
   ],
   "source": [
    "print(first_driver)\n"
   ]
  },
  {
   "cell_type": "code",
   "execution_count": 10,
   "id": "9811a521-4415-4795-be1b-54489edf91da",
   "metadata": {},
   "outputs": [
    {
     "name": "stdout",
     "output_type": "stream",
     "text": [
      "{'passenger': 'Vikram', 'destination': 'Pune Station', 'distance_km': 8, 'is_premium_rise': False}\n",
      "Pune Station\n"
     ]
    }
   ],
   "source": [
    "#dictionary\n",
    "\n",
    "ride_details = {\n",
    "    \"passenger\":\"Vikram\",\n",
    "    \"destination\":\"Pune Station\",\n",
    "    \"distance_km\": 8,\n",
    "    \"is_premium_rise\" : False\n",
    "}\n",
    "\n",
    "print(ride_details)\n",
    "\n",
    "destination = ride_details[\"destination\"]\n",
    "print(destination)"
   ]
  },
  {
   "cell_type": "code",
   "execution_count": null,
   "id": "c1fe4227-3500-4198-a6fa-69c8009e6e3a",
   "metadata": {},
   "outputs": [],
   "source": []
  }
 ],
 "metadata": {
  "kernelspec": {
   "display_name": "Python 3 (ipykernel)",
   "language": "python",
   "name": "python3"
  },
  "language_info": {
   "codemirror_mode": {
    "name": "ipython",
    "version": 3
   },
   "file_extension": ".py",
   "mimetype": "text/x-python",
   "name": "python",
   "nbconvert_exporter": "python",
   "pygments_lexer": "ipython3",
   "version": "3.13.5"
  }
 },
 "nbformat": 4,
 "nbformat_minor": 5
}
