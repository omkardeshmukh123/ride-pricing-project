{
 "cells": [
  {
   "cell_type": "code",
   "execution_count": 1,
   "id": "f1e50533-f89d-4cf4-a8f6-3ae300772829",
   "metadata": {},
   "outputs": [
    {
     "name": "stdout",
     "output_type": "stream",
     "text": [
      "python list:  [5, 12, 3, 8, 15]\n",
      "Numpy array: [ 5 12  3  8 15]\n",
      "The type is: <class 'numpy.ndarray'>\n"
     ]
    }
   ],
   "source": [
    "import numpy as np \n",
    "\n",
    "ride_distances_list = [5 , 12 , 3 , 8 , 15]\n",
    "\n",
    "#convert above list to Numpy array\n",
    "ride_distances_array = np.array(ride_distances_list)\n",
    "\n",
    "print (\"python list: \", ride_distances_list)\n",
    "print (\"Numpy array:\", ride_distances_array)\n",
    "print (\"The type is:\", type(ride_distances_array))"
   ]
  },
  {
   "cell_type": "code",
   "execution_count": 2,
   "id": "03476e14-a11f-477a-a24c-c9ccd184c550",
   "metadata": {
    "scrolled": true
   },
   "outputs": [
    {
     "name": "stdout",
     "output_type": "stream",
     "text": [
      "Using a for loop: [5000, 12000, 3000, 8000, 15000]\n"
     ]
    }
   ],
   "source": [
    "#vectorization \n",
    "#most important numpy concept \n",
    "\n",
    "distances_in_metre_list = []\n",
    "for distance in ride_distances_list:\n",
    "    distances_in_metre_list.append(distance * 1000)\n",
    "\n",
    "print(\"Using a for loop:\", distances_in_metre_list)"
   ]
  },
  {
   "cell_type": "code",
   "execution_count": 3,
   "id": "de85dddd-5e2b-4d14-b57e-5b19afe32598",
   "metadata": {},
   "outputs": [
    {
     "name": "stdout",
     "output_type": "stream",
     "text": [
      "Using Numpy vectorization: [ 5000 12000  3000  8000 15000]\n"
     ]
    }
   ],
   "source": [
    "distances_in_meters_array = ride_distances_array * 1000\n",
    "print(\"Using Numpy vectorization:\" , distances_in_meters_array)"
   ]
  },
  {
   "cell_type": "code",
   "execution_count": 4,
   "id": "38da01fa-8668-4f9c-a1c5-d10ca7cbbb47",
   "metadata": {},
   "outputs": [
    {
     "name": "stdout",
     "output_type": "stream",
     "text": [
      "Our array: [ 5 12  3  8 15]\n",
      "Longest Ride (km): 15\n",
      "Shortest Ride (km): 3\n",
      "avg ride distance (km): 8.6\n",
      "Total distance of all rides(km): 43\n"
     ]
    }
   ],
   "source": [
    "#operation on Numpy\n",
    "print(\"Our array:\" , ride_distances_array)\n",
    "\n",
    "#longest ride\n",
    "print(\"Longest Ride (km):\" , ride_distances_array.max())\n",
    "\n",
    "#shortest ride \n",
    "print(\"Shortest Ride (km):\" , ride_distances_array.min())\n",
    "\n",
    "#avg or mean \n",
    "print(\"avg ride distance (km):\" , ride_distances_array.mean())\n",
    "\n",
    "#total distance of all rides \n",
    "print(\"Total distance of all rides(km):\", ride_distances_array.sum())\n"
   ]
  },
  {
   "cell_type": "code",
   "execution_count": null,
   "id": "3fc4104a-2b45-488c-bb3c-37bcbecf7fef",
   "metadata": {},
   "outputs": [],
   "source": []
  },
  {
   "cell_type": "code",
   "execution_count": null,
   "id": "144f95ff-637d-41ab-ad96-0e043f7fd2e6",
   "metadata": {},
   "outputs": [],
   "source": []
  },
  {
   "cell_type": "code",
   "execution_count": null,
   "id": "13bccc9d-951e-4309-9be2-96bea6bc04e8",
   "metadata": {},
   "outputs": [],
   "source": []
  }
 ],
 "metadata": {
  "kernelspec": {
   "display_name": "Python 3 (ipykernel)",
   "language": "python",
   "name": "python3"
  },
  "language_info": {
   "codemirror_mode": {
    "name": "ipython",
    "version": 3
   },
   "file_extension": ".py",
   "mimetype": "text/x-python",
   "name": "python",
   "nbconvert_exporter": "python",
   "pygments_lexer": "ipython3",
   "version": "3.13.5"
  }
 },
 "nbformat": 4,
 "nbformat_minor": 5
}
