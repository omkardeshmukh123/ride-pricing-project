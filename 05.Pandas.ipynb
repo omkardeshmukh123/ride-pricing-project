{
 "cells": [
  {
   "cell_type": "code",
   "execution_count": 4,
   "id": "0887e56a-c392-4882-9d2a-d08017424563",
   "metadata": {},
   "outputs": [
    {
     "data": {
      "text/html": [
       "<div>\n",
       "<style scoped>\n",
       "    .dataframe tbody tr th:only-of-type {\n",
       "        vertical-align: middle;\n",
       "    }\n",
       "\n",
       "    .dataframe tbody tr th {\n",
       "        vertical-align: top;\n",
       "    }\n",
       "\n",
       "    .dataframe thead th {\n",
       "        text-align: right;\n",
       "    }\n",
       "</style>\n",
       "<table border=\"1\" class=\"dataframe\">\n",
       "  <thead>\n",
       "    <tr style=\"text-align: right;\">\n",
       "      <th></th>\n",
       "      <th>driver_name</th>\n",
       "      <th>destination</th>\n",
       "      <th>distance_km</th>\n",
       "      <th>fare_rs</th>\n",
       "    </tr>\n",
       "  </thead>\n",
       "  <tbody>\n",
       "    <tr>\n",
       "      <th>0</th>\n",
       "      <td>Suresh</td>\n",
       "      <td>Koregaon Park</td>\n",
       "      <td>5</td>\n",
       "      <td>150</td>\n",
       "    </tr>\n",
       "    <tr>\n",
       "      <th>1</th>\n",
       "      <td>Riya</td>\n",
       "      <td>Hinjawadi</td>\n",
       "      <td>22</td>\n",
       "      <td>450</td>\n",
       "    </tr>\n",
       "    <tr>\n",
       "      <th>2</th>\n",
       "      <td>amit</td>\n",
       "      <td>FC Road</td>\n",
       "      <td>8</td>\n",
       "      <td>180</td>\n",
       "    </tr>\n",
       "  </tbody>\n",
       "</table>\n",
       "</div>"
      ],
      "text/plain": [
       "  driver_name    destination  distance_km  fare_rs\n",
       "0      Suresh  Koregaon Park            5      150\n",
       "1        Riya      Hinjawadi           22      450\n",
       "2        amit        FC Road            8      180"
      ]
     },
     "execution_count": 4,
     "metadata": {},
     "output_type": "execute_result"
    }
   ],
   "source": [
    "import pandas as pd\n",
    "\n",
    "ride_data = {\n",
    "    'driver_name' : ['Suresh','Riya','amit'],\n",
    "    'destination': ['Koregaon Park', 'Hinjawadi', 'FC Road'],\n",
    "    'distance_km': [5, 22, 8],\n",
    "    'fare_rs': [150, 450, 180]\n",
    "}\n",
    "\n",
    "#Dataframe\n",
    "rides_df = pd.DataFrame(ride_data)\n",
    "\n",
    "rides_df"
   ]
  },
  {
   "cell_type": "code",
   "execution_count": 5,
   "id": "ab2952f5-fb1f-4fe4-8708-9eda92f319ba",
   "metadata": {},
   "outputs": [
    {
     "name": "stdout",
     "output_type": "stream",
     "text": [
      "data loaded fromrides_data.csv\n"
     ]
    },
    {
     "data": {
      "text/html": [
       "<div>\n",
       "<style scoped>\n",
       "    .dataframe tbody tr th:only-of-type {\n",
       "        vertical-align: middle;\n",
       "    }\n",
       "\n",
       "    .dataframe tbody tr th {\n",
       "        vertical-align: top;\n",
       "    }\n",
       "\n",
       "    .dataframe thead th {\n",
       "        text-align: right;\n",
       "    }\n",
       "</style>\n",
       "<table border=\"1\" class=\"dataframe\">\n",
       "  <thead>\n",
       "    <tr style=\"text-align: right;\">\n",
       "      <th></th>\n",
       "      <th>driver_name</th>\n",
       "      <th>destination</th>\n",
       "      <th>distance_km</th>\n",
       "      <th>fare_rs</th>\n",
       "    </tr>\n",
       "  </thead>\n",
       "  <tbody>\n",
       "    <tr>\n",
       "      <th>0</th>\n",
       "      <td>Suresh</td>\n",
       "      <td>Koregaon Park</td>\n",
       "      <td>5</td>\n",
       "      <td>150</td>\n",
       "    </tr>\n",
       "    <tr>\n",
       "      <th>1</th>\n",
       "      <td>Riya</td>\n",
       "      <td>Hinjawadi</td>\n",
       "      <td>22</td>\n",
       "      <td>450</td>\n",
       "    </tr>\n",
       "    <tr>\n",
       "      <th>2</th>\n",
       "      <td>amit</td>\n",
       "      <td>FC Road</td>\n",
       "      <td>8</td>\n",
       "      <td>180</td>\n",
       "    </tr>\n",
       "  </tbody>\n",
       "</table>\n",
       "</div>"
      ],
      "text/plain": [
       "  driver_name    destination  distance_km  fare_rs\n",
       "0      Suresh  Koregaon Park            5      150\n",
       "1        Riya      Hinjawadi           22      450\n",
       "2        amit        FC Road            8      180"
      ]
     },
     "execution_count": 5,
     "metadata": {},
     "output_type": "execute_result"
    }
   ],
   "source": [
    "# First, let's save our DataFrame to a CSV file to simulate a real-world scenario\n",
    "#index=False prevents Pandas from writing the row numbers to the file\n",
    "\n",
    "rides_df.to_csv('rides_data.csv', index=False)\n",
    "\n",
    "#loading back into a dataframe\n",
    "loaded_rides_df = pd.read_csv('rides_data.csv')\n",
    "\n",
    "print(\"data loaded fromrides_data.csv\")\n",
    "loaded_rides_df"
   ]
  },
  {
   "cell_type": "code",
   "execution_count": 6,
   "id": "782fc891-2912-4224-8631-471e60b6446d",
   "metadata": {},
   "outputs": [
    {
     "name": "stdout",
     "output_type": "stream",
     "text": [
      "---- First 2 Rows (head) ---\n",
      "  driver_name    destination  distance_km  fare_rs\n",
      "0      Suresh  Koregaon Park            5      150\n",
      "1        Riya      Hinjawadi           22      450\n"
     ]
    }
   ],
   "source": [
    "#commands to inspect the data \n",
    "\n",
    "#to see the first two rows of our dataframe\n",
    "print(\"---- First 2 Rows (head) ---\")\n",
    "print(rides_df.head(2))\n",
    "\n"
   ]
  },
  {
   "cell_type": "code",
   "execution_count": 7,
   "id": "ec2df6e8-1984-4a81-8b9f-97c42a00f4c1",
   "metadata": {},
   "outputs": [
    {
     "name": "stdout",
     "output_type": "stream",
     "text": [
      "\n",
      "--DataFrame info--\n",
      "<class 'pandas.core.frame.DataFrame'>\n",
      "RangeIndex: 3 entries, 0 to 2\n",
      "Data columns (total 4 columns):\n",
      " #   Column       Non-Null Count  Dtype \n",
      "---  ------       --------------  ----- \n",
      " 0   driver_name  3 non-null      object\n",
      " 1   destination  3 non-null      object\n",
      " 2   distance_km  3 non-null      int64 \n",
      " 3   fare_rs      3 non-null      int64 \n",
      "dtypes: int64(2), object(2)\n",
      "memory usage: 228.0+ bytes\n"
     ]
    }
   ],
   "source": [
    "#get summary of data-types\n",
    "print(\"\\n--DataFrame info--\")\n",
    "rides_df.info()"
   ]
  },
  {
   "cell_type": "code",
   "execution_count": 8,
   "id": "f0626f2d-9c52-46e7-b13c-dd1a9632ac37",
   "metadata": {},
   "outputs": [
    {
     "name": "stdout",
     "output_type": "stream",
     "text": [
      "\n",
      "--- Selecting a Single Column (destination)---\n",
      "0    Koregaon Park\n",
      "1        Hinjawadi\n",
      "2          FC Road\n",
      "Name: destination, dtype: object\n"
     ]
    }
   ],
   "source": [
    "#select a single column (this returns a series)\n",
    "print(\"\\n--- Selecting a Single Column (destination)---\")\n",
    "print(rides_df['destination'])"
   ]
  },
  {
   "cell_type": "code",
   "execution_count": 10,
   "id": "6e4773de-e8a6-423d-899a-5f34c8a957c5",
   "metadata": {},
   "outputs": [
    {
     "name": "stdout",
     "output_type": "stream",
     "text": [
      "--conditional filtering(distance>20km)\n",
      "  driver_name destination  distance_km  fare_rs\n",
      "1        Riya   Hinjawadi           22      450\n"
     ]
    }
   ],
   "source": [
    "print(\"--conditional filtering(distance>20km)\")\n",
    "long_rides = rides_df[rides_df['distance_km']>20]\n",
    "print(long_rides)"
   ]
  },
  {
   "cell_type": "code",
   "execution_count": 4,
   "id": "016e44ed-d200-4c51-91b4-f60aa6ce080a",
   "metadata": {},
   "outputs": [
    {
     "data": {
      "text/html": [
       "<div>\n",
       "<style scoped>\n",
       "    .dataframe tbody tr th:only-of-type {\n",
       "        vertical-align: middle;\n",
       "    }\n",
       "\n",
       "    .dataframe tbody tr th {\n",
       "        vertical-align: top;\n",
       "    }\n",
       "\n",
       "    .dataframe thead th {\n",
       "        text-align: right;\n",
       "    }\n",
       "</style>\n",
       "<table border=\"1\" class=\"dataframe\">\n",
       "  <thead>\n",
       "    <tr style=\"text-align: right;\">\n",
       "      <th></th>\n",
       "      <th>action</th>\n",
       "      <th>comedy</th>\n",
       "      <th>romance</th>\n",
       "    </tr>\n",
       "  </thead>\n",
       "  <tbody>\n",
       "    <tr>\n",
       "      <th>0</th>\n",
       "      <td>Radhe</td>\n",
       "      <td>Hera pheri</td>\n",
       "      <td>DDLJ</td>\n",
       "    </tr>\n",
       "    <tr>\n",
       "      <th>1</th>\n",
       "      <td>Baal-veer</td>\n",
       "      <td>Fun</td>\n",
       "      <td>hakla</td>\n",
       "    </tr>\n",
       "  </tbody>\n",
       "</table>\n",
       "</div>"
      ],
      "text/plain": [
       "      action      comedy romance\n",
       "0      Radhe  Hera pheri    DDLJ\n",
       "1  Baal-veer         Fun   hakla"
      ]
     },
     "execution_count": 4,
     "metadata": {},
     "output_type": "execute_result"
    }
   ],
   "source": [
    "#task \n",
    "import pandas as pd\n",
    "\n",
    "movies = {\n",
    "    'action' : ['Radhe' , 'Baal-veer'],\n",
    "    'comedy' : ['Hera pheri' , 'Fun'],\n",
    "    'romance': ['DDLJ' , 'hakla']\n",
    "}\n",
    "\n",
    "movies_df = pd.DataFrame(movies)\n",
    "\n",
    "movies_df"
   ]
  },
  {
   "cell_type": "code",
   "execution_count": 5,
   "id": "b3d7a5dc-c4a0-4bfe-8375-a4d34c2af6c0",
   "metadata": {},
   "outputs": [
    {
     "name": "stdout",
     "output_type": "stream",
     "text": [
      "      action      comedy\n",
      "0      Radhe  Hera pheri\n",
      "1  Baal-veer         Fun\n"
     ]
    }
   ],
   "source": [
    "#printing multiple columns\n",
    "print(movies_df[['action','comedy']])"
   ]
  },
  {
   "cell_type": "code",
   "execution_count": 6,
   "id": "2866a0fd-4d15-41db-a272-82a475a8a903",
   "metadata": {},
   "outputs": [
    {
     "ename": "NameError",
     "evalue": "name 'rides_df' is not defined",
     "output_type": "error",
     "traceback": [
      "\u001b[31m---------------------------------------------------------------------------\u001b[39m",
      "\u001b[31mNameError\u001b[39m                                 Traceback (most recent call last)",
      "\u001b[36mCell\u001b[39m\u001b[36m \u001b[39m\u001b[32mIn[6]\u001b[39m\u001b[32m, line 1\u001b[39m\n\u001b[32m----> \u001b[39m\u001b[32m1\u001b[39m high_fare = \u001b[43mrides_df\u001b[49m[rides_df[\u001b[33m'\u001b[39m\u001b[33mfare_rs\u001b[39m\u001b[33m'\u001b[39m]> \u001b[32m20\u001b[39m]\n\u001b[32m      2\u001b[39m \u001b[38;5;28mprint\u001b[39m(high_fare)\n",
      "\u001b[31mNameError\u001b[39m: name 'rides_df' is not defined"
     ]
    }
   ],
   "source": []
  },
  {
   "cell_type": "code",
   "execution_count": null,
   "id": "4911e8c4-0ad1-4a5c-b77f-4c47d5f75f76",
   "metadata": {},
   "outputs": [],
   "source": []
  }
 ],
 "metadata": {
  "kernelspec": {
   "display_name": "Python 3 (ipykernel)",
   "language": "python",
   "name": "python3"
  },
  "language_info": {
   "codemirror_mode": {
    "name": "ipython",
    "version": 3
   },
   "file_extension": ".py",
   "mimetype": "text/x-python",
   "name": "python",
   "nbconvert_exporter": "python",
   "pygments_lexer": "ipython3",
   "version": "3.13.5"
  }
 },
 "nbformat": 4,
 "nbformat_minor": 5
}
