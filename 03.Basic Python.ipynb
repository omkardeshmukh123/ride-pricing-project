{
 "cells": [
  {
   "cell_type": "code",
   "execution_count": 1,
   "id": "643612e0-b161-4e40-9c94-c2d3f750e752",
   "metadata": {},
   "outputs": [
    {
     "name": "stdout",
     "output_type": "stream",
     "text": [
      "Demand is high , apply high surge.\n",
      "The final surge multiplier is : 2.0\n"
     ]
    }
   ],
   "source": [
    "#if/elif/else\n",
    "\n",
    "demand_level =\"High\"\n",
    "surge_multiplier = 1.0\n",
    "\n",
    "if demand_level == \"High\":\n",
    "    print(\"Demand is high , apply high surge.\")\n",
    "    surge_multiplier = 2.0\n",
    "elif demand_level == \"Medium\":\n",
    "    print(\"Demand is medium,applying medium surge.\")\n",
    "    surge_multiplier = 1.5\n",
    "else :\n",
    "    print(\"Demand is low , no surge applied\")\n",
    "    surge_mutiplier = 1.0\n",
    "print (f\"The final surge multiplier is : {surge_multiplier}\")"
   ]
  },
  {
   "cell_type": "code",
   "execution_count": 2,
   "id": "30759c6b-2dbe-4b25-b562-34bc3fc984ed",
   "metadata": {},
   "outputs": [
    {
     "name": "stdout",
     "output_type": "stream",
     "text": [
      "A ride of 5km costs Rs. 60\n",
      "A ride of 12km costs Rs. 144\n",
      "A ride of 3km costs Rs. 36\n",
      "A ride of 8km costs Rs. 96\n"
     ]
    }
   ],
   "source": [
    "#for loop \n",
    "ride_distances_km = [5,12,3,8]\n",
    "base_fare_per_km = 12 \n",
    "\n",
    "for distance in ride_distances_km:\n",
    "    final_fare = distance * base_fare_per_km\n",
    "    print(f\"A ride of {distance}km costs Rs. {final_fare}\")"
   ]
  },
  {
   "cell_type": "code",
   "execution_count": 3,
   "id": "d71c76a9-307b-4ec6-bc43-b449847550e0",
   "metadata": {},
   "outputs": [
    {
     "name": "stdout",
     "output_type": "stream",
     "text": [
      "A 10 km ride in high demnad costs: Rs. 240.0\n",
      "A 10 km ride in low demnad costs: Rs. 120.0\n"
     ]
    }
   ],
   "source": [
    "def calculate_final_fare(distance_km , demand_level):\n",
    "    base_fare_per_km = 12\n",
    "    surge_multiplier = 1.0 #default\n",
    "\n",
    "    if demand_level == \"High\":\n",
    "        surge_multiplier = 2.0\n",
    "    elif demand_level == \"medium\":\n",
    "        surge_multiplier = 1.5\n",
    "\n",
    "    final_fare = base_fare_per_km * distance_km * surge_multiplier\n",
    "    return final_fare\n",
    "\n",
    "high_demand_fare = calculate_final_fare(10, \"High\")\n",
    "print(f\"A 10 km ride in high demnad costs: Rs. {high_demand_fare}\")\n",
    "\n",
    "low_demand_fare = calculate_final_fare(10, \"Low\")\n",
    "print(f\"A 10 km ride in low demnad costs: Rs. {low_demand_fare}\")\n"
   ]
  },
  {
   "cell_type": "code",
   "execution_count": 4,
   "id": "2391a8a3-ccfa-4125-ad16-0ef28d5f39f8",
   "metadata": {},
   "outputs": [
    {
     "name": "stdout",
     "output_type": "stream",
     "text": [
      "A 10 km ride in high demnad costs: Rs. 240.0\n",
      "A 10 km ride in low demnad costs: Rs. 120.0\n"
     ]
    }
   ],
   "source": [
    "def calculate_final_fare(distance_km , demand_level):\n",
    "    base_fare_per_km = 12\n",
    "    surge_multiplier = 1.0\n",
    "\n",
    "    if demand_level == \"High\":\n",
    "        surge_multiplier = 2.0\n",
    "    elif demand_level == \"medium\":\n",
    "        surge_multiplier = 1.5\n",
    "\n",
    "    final_fare = base_fare_per_km * distance_km * surge_multiplier \n",
    "    return final_fare \n",
    "\n",
    "high_demand_fare = calculate_final_fare(10, \"High\")\n",
    "print(f\"A 10 km ride in high demnad costs: Rs. {high_demand_fare}\")\n",
    "\n",
    "low_demand_fare = calculate_final_fare(10, \"Low\")\n",
    "print(f\"A 10 km ride in low demnad costs: Rs. {low_demand_fare}\")"
   ]
  },
  {
   "cell_type": "code",
   "execution_count": null,
   "id": "39793527-6338-4518-aa51-c46778956b2c",
   "metadata": {},
   "outputs": [],
   "source": []
  },
  {
   "cell_type": "code",
   "execution_count": null,
   "id": "0f4421a8-005c-4b92-8729-978e2fcae1f0",
   "metadata": {},
   "outputs": [],
   "source": []
  },
  {
   "cell_type": "code",
   "execution_count": null,
   "id": "758299b2-9565-499a-b3d2-2136f0b6448e",
   "metadata": {},
   "outputs": [],
   "source": []
  },
  {
   "cell_type": "code",
   "execution_count": null,
   "id": "2f2bfcb8-7b1d-4175-85e0-621d8eedfb9b",
   "metadata": {},
   "outputs": [],
   "source": []
  }
 ],
 "metadata": {
  "kernelspec": {
   "display_name": "Python 3 (ipykernel)",
   "language": "python",
   "name": "python3"
  },
  "language_info": {
   "codemirror_mode": {
    "name": "ipython",
    "version": 3
   },
   "file_extension": ".py",
   "mimetype": "text/x-python",
   "name": "python",
   "nbconvert_exporter": "python",
   "pygments_lexer": "ipython3",
   "version": "3.13.5"
  }
 },
 "nbformat": 4,
 "nbformat_minor": 5
}
