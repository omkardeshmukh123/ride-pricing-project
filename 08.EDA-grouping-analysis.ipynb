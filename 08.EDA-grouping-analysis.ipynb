{
 "cells": [
  {
   "cell_type": "code",
   "execution_count": 2,
   "id": "45d2cff4-aafc-4551-b093-221d32b8dd63",
   "metadata": {},
   "outputs": [
    {
     "data": {
      "text/html": [
       "<div>\n",
       "<style scoped>\n",
       "    .dataframe tbody tr th:only-of-type {\n",
       "        vertical-align: middle;\n",
       "    }\n",
       "\n",
       "    .dataframe tbody tr th {\n",
       "        vertical-align: top;\n",
       "    }\n",
       "\n",
       "    .dataframe thead th {\n",
       "        text-align: right;\n",
       "    }\n",
       "</style>\n",
       "<table border=\"1\" class=\"dataframe\">\n",
       "  <thead>\n",
       "    <tr style=\"text-align: right;\">\n",
       "      <th></th>\n",
       "      <th>timestamp</th>\n",
       "      <th>cab_type</th>\n",
       "      <th>distance_km</th>\n",
       "      <th>temperature_celsius</th>\n",
       "      <th>weather_condition</th>\n",
       "      <th>demand_multiplier</th>\n",
       "    </tr>\n",
       "  </thead>\n",
       "  <tbody>\n",
       "    <tr>\n",
       "      <th>0</th>\n",
       "      <td>2025-07-30 08:30:00</td>\n",
       "      <td>Mini</td>\n",
       "      <td>5.5</td>\n",
       "      <td>28.5</td>\n",
       "      <td>Clear</td>\n",
       "      <td>1.0</td>\n",
       "    </tr>\n",
       "    <tr>\n",
       "      <th>1</th>\n",
       "      <td>2025-07-30 09:15:00</td>\n",
       "      <td>Sedan</td>\n",
       "      <td>12.1</td>\n",
       "      <td>29.0</td>\n",
       "      <td>Clear</td>\n",
       "      <td>1.5</td>\n",
       "    </tr>\n",
       "    <tr>\n",
       "      <th>2</th>\n",
       "      <td>2025-07-30 09:45:00</td>\n",
       "      <td>Mini</td>\n",
       "      <td>3.2</td>\n",
       "      <td>29.2</td>\n",
       "      <td>Clear</td>\n",
       "      <td>1.2</td>\n",
       "    </tr>\n",
       "    <tr>\n",
       "      <th>3</th>\n",
       "      <td>2025-07-30 12:00:00</td>\n",
       "      <td>Sedan</td>\n",
       "      <td>8.0</td>\n",
       "      <td>32.0</td>\n",
       "      <td>Clear</td>\n",
       "      <td>1.0</td>\n",
       "    </tr>\n",
       "    <tr>\n",
       "      <th>4</th>\n",
       "      <td>2025-07-30 13:30:00</td>\n",
       "      <td>Mini</td>\n",
       "      <td>4.5</td>\n",
       "      <td>31.5</td>\n",
       "      <td>Clear</td>\n",
       "      <td>1.0</td>\n",
       "    </tr>\n",
       "    <tr>\n",
       "      <th>5</th>\n",
       "      <td>2025-07-30 17:00:00</td>\n",
       "      <td>SUV</td>\n",
       "      <td>6.7</td>\n",
       "      <td>29.8</td>\n",
       "      <td>Rainy</td>\n",
       "      <td>2.0</td>\n",
       "    </tr>\n",
       "    <tr>\n",
       "      <th>6</th>\n",
       "      <td>2025-07-30 18:30:00</td>\n",
       "      <td>Sedan</td>\n",
       "      <td>15.3</td>\n",
       "      <td>27.5</td>\n",
       "      <td>Rainy</td>\n",
       "      <td>2.5</td>\n",
       "    </tr>\n",
       "    <tr>\n",
       "      <th>7</th>\n",
       "      <td>2025-07-30 19:00:00</td>\n",
       "      <td>Mini</td>\n",
       "      <td>4.1</td>\n",
       "      <td>NaN</td>\n",
       "      <td>Rainy</td>\n",
       "      <td>2.2</td>\n",
       "    </tr>\n",
       "    <tr>\n",
       "      <th>8</th>\n",
       "      <td>2025-07-30 21:00:00</td>\n",
       "      <td>Sedan</td>\n",
       "      <td>9.8</td>\n",
       "      <td>26.0</td>\n",
       "      <td>Clear</td>\n",
       "      <td>1.2</td>\n",
       "    </tr>\n",
       "    <tr>\n",
       "      <th>9</th>\n",
       "      <td>2025-07-30 22:30:00</td>\n",
       "      <td>Mini</td>\n",
       "      <td>7.6</td>\n",
       "      <td>25.5</td>\n",
       "      <td>Foggy</td>\n",
       "      <td>1.8</td>\n",
       "    </tr>\n",
       "  </tbody>\n",
       "</table>\n",
       "</div>"
      ],
      "text/plain": [
       "            timestamp cab_type  distance_km  temperature_celsius  \\\n",
       "0 2025-07-30 08:30:00     Mini          5.5                 28.5   \n",
       "1 2025-07-30 09:15:00    Sedan         12.1                 29.0   \n",
       "2 2025-07-30 09:45:00     Mini          3.2                 29.2   \n",
       "3 2025-07-30 12:00:00    Sedan          8.0                 32.0   \n",
       "4 2025-07-30 13:30:00     Mini          4.5                 31.5   \n",
       "5 2025-07-30 17:00:00      SUV          6.7                 29.8   \n",
       "6 2025-07-30 18:30:00    Sedan         15.3                 27.5   \n",
       "7 2025-07-30 19:00:00     Mini          4.1                  NaN   \n",
       "8 2025-07-30 21:00:00    Sedan          9.8                 26.0   \n",
       "9 2025-07-30 22:30:00     Mini          7.6                 25.5   \n",
       "\n",
       "  weather_condition  demand_multiplier  \n",
       "0             Clear                1.0  \n",
       "1             Clear                1.5  \n",
       "2             Clear                1.2  \n",
       "3             Clear                1.0  \n",
       "4             Clear                1.0  \n",
       "5             Rainy                2.0  \n",
       "6             Rainy                2.5  \n",
       "7             Rainy                2.2  \n",
       "8             Clear                1.2  \n",
       "9             Foggy                1.8  "
      ]
     },
     "execution_count": 2,
     "metadata": {},
     "output_type": "execute_result"
    }
   ],
   "source": [
    "import pandas as pd \n",
    "import matplotlib.pyplot as plt\n",
    "import seaborn as sns\n",
    "import numpy as np\n",
    "\n",
    "%matplotlib inline\n",
    "sns.set_style('whitegrid')\n",
    "\n",
    "data = {\n",
    "    'timestamp': pd.to_datetime([\n",
    "        '2025-07-30 08:30:00', '2025-07-30 09:15:00', '2025-07-30 09:45:00',\n",
    "        '2025-07-30 12:00:00', '2025-07-30 13:30:00', '2025-07-30 17:00:00',\n",
    "        '2025-07-30 18:30:00', '2025-07-30 19:00:00', '2025-07-30 21:00:00',\n",
    "        '2025-07-30 22:30:00'\n",
    "    ]),\n",
    "    'cab_type': ['Mini', 'Sedan', 'Mini', 'Sedan', 'Mini', 'SUV', 'Sedan', 'Mini', 'Sedan', 'Mini'],\n",
    "    'distance_km': [5.5, 12.1, 3.2, 8.0, 4.5, 6.7, 15.3, 4.1, 9.8, 7.6],\n",
    "    'temperature_celsius': [28.5, 29.0, 29.2, 32.0, 31.5, 29.8, 27.5, np.nan, 26.0, 25.5],\n",
    "    'weather_condition': ['Clear', 'Clear', 'Clear', 'Clear', 'Clear', 'Rainy', 'Rainy', 'Rainy', 'Clear', 'Foggy'],\n",
    "    'demand_multiplier': [1.0, 1.5, 1.2, 1.0, 1.0, 2.0, 2.5, 2.2, 1.2, 1.8]\n",
    "}\n",
    "\n",
    "df = pd.DataFrame(data)\n",
    "df\n"
   ]
  },
  {
   "cell_type": "code",
   "execution_count": 4,
   "id": "28f2a2d2-7ce5-46df-880b-a49744f640bd",
   "metadata": {},
   "outputs": [
    {
     "name": "stdout",
     "output_type": "stream",
     "text": [
      "---Average Demand Multiplier by Weather Condition---\n",
      "weather_condition\n",
      "Rainy    2.233333\n",
      "Foggy    1.800000\n",
      "Clear    1.150000\n",
      "Name: demand_multiplier, dtype: float64\n"
     ]
    }
   ],
   "source": [
    "weather_impact = df.groupby('weather_condition')['demand_multiplier'].mean().sort_values(ascending=False)\n",
    "print(\"---Average Demand Multiplier by Weather Condition---\")\n",
    "print(weather_impact)"
   ]
  },
  {
   "cell_type": "code",
   "execution_count": 6,
   "id": "4d430c8c-bdb5-4e5f-92a4-96d45aa51a2e",
   "metadata": {},
   "outputs": [
    {
     "data": {
      "image/png": "[encoded data removed]",
      "text/plain": [
       "<Figure size 800x500 with 1 Axes>"
      ]
     },
     "metadata": {},
     "output_type": "display_data"
    }
   ],
   "source": [
    "#bar plot\n",
    "plt.figure(figsize=(8,5))\n",
    "weather_impact.plot(kind='bar')\n",
    "\n",
    "plt.title('Avg demand multiplier by weather condition')\n",
    "plt.xlabel('Weather condition')\n",
    "plt.ylabel('Average Demand Multiplier')\n",
    "plt.xticks(rotation=0)\n",
    "plt.show()"
   ]
  },
  {
   "cell_type": "code",
   "execution_count": 9,
   "id": "0e7a402b-b6a2-4812-92f1-c499896978a3",
   "metadata": {},
   "outputs": [
    {
     "name": "stdout",
     "output_type": "stream",
     "text": [
      "---avg demand multiplier by weather and cab type---\n",
      "weather_condition  cab_type\n",
      "Clear              Mini        1.066667\n",
      "                   Sedan       1.233333\n",
      "Foggy              Mini        1.800000\n",
      "Rainy              Mini        2.200000\n",
      "                   SUV         2.000000\n",
      "                   Sedan       2.500000\n",
      "Name: demand_multiplier, dtype: float64\n"
     ]
    }
   ],
   "source": [
    "# grouping by multiple columns\n",
    "\n",
    "multi_group_impact = df.groupby(['weather_condition' , 'cab_type'])['demand_multiplier'].mean()\n",
    "print(\"---avg demand multiplier by weather and cab type---\")\n",
    "print(multi_group_impact)"
   ]
  },
  {
   "cell_type": "code",
   "execution_count": 10,
   "id": "28dcba6f-ee6d-4071-8de9-1fc387f91c2c",
   "metadata": {},
   "outputs": [
    {
     "data": {
      "image/png": "[encoded data removed]",
      "text/plain": [
       "<Figure size 800x500 with 1 Axes>"
      ]
     },
     "metadata": {},
     "output_type": "display_data"
    }
   ],
   "source": [
    "#bar plot\n",
    "plt.figure(figsize=(8,5))\n",
    "weather_impact.plot(kind='bar')\n",
    "\n",
    "plt.title('Avg demand multiplier by weather and cab type')\n",
    "plt.xlabel('Weather & cab type')\n",
    "plt.ylabel('Average Demand Multiplier')\n",
    "plt.xticks(rotation=0)\n",
    "plt.show()"
   ]
  },
  {
   "cell_type": "code",
   "execution_count": null,
   "id": "8ffe7801-e25f-4720-8c31-c2b7a84d39c1",
   "metadata": {},
   "outputs": [],
   "source": []
  }
 ],
 "metadata": {
  "kernelspec": {
   "display_name": "Python 3 (ipykernel)",
   "language": "python",
   "name": "python3"
  },
  "language_info": {
   "codemirror_mode": {
    "name": "ipython",
    "version": 3
   },
   "file_extension": ".py",
   "mimetype": "text/x-python",
   "name": "python",
   "nbconvert_exporter": "python",
   "pygments_lexer": "ipython3",
   "version": "3.13.5"
  }
 },
 "nbformat": 4,
 "nbformat_minor": 5
}
