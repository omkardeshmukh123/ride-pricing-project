{
 "cells": [
  {
   "cell_type": "code",
   "execution_count": 1,
   "id": "643612e0-b161-4e40-9c94-c2d3f750e752",
   "metadata": {},
   "outputs": [
    {
     "name": "stdout",
     "output_type": "stream",
     "text": [
      "Demand is high , aplly high surge.\n"
     ]
    },
    {
     "ename": "NameError",
     "evalue": "name 'surge_multipler' is not defined",
     "output_type": "error",
     "traceback": [
      "\u001b[31m---------------------------------------------------------------------------\u001b[39m",
      "\u001b[31mNameError\u001b[39m                                 Traceback (most recent call last)",
      "\u001b[36mCell\u001b[39m\u001b[36m \u001b[39m\u001b[32mIn[1]\u001b[39m\u001b[32m, line 15\u001b[39m\n\u001b[32m     13\u001b[39m     \u001b[38;5;28mprint\u001b[39m(\u001b[33m\"\u001b[39m\u001b[33mDemand is low , no surge applied\u001b[39m\u001b[33m\"\u001b[39m)\n\u001b[32m     14\u001b[39m     surge_mutiplier = \u001b[32m1.0\u001b[39m\n\u001b[32m---> \u001b[39m\u001b[32m15\u001b[39m \u001b[38;5;28mprint\u001b[39m (\u001b[33mf\u001b[39m\u001b[33m\"\u001b[39m\u001b[33mThe final surge multiplier is : \u001b[39m\u001b[38;5;132;01m{\u001b[39;00m\u001b[43msurge_multipler\u001b[49m\u001b[38;5;132;01m}\u001b[39;00m\u001b[33m\"\u001b[39m)\n",
      "\u001b[31mNameError\u001b[39m: name 'surge_multipler' is not defined"
     ]
    }
   ],
   "source": [
    "#if/elif/else\n",
    "\n",
    "demand_level =\"High\"\n",
    "surge_multiplier = 1.0\n",
    "\n",
    "if demand_level == \"High\":\n",
    "    print(\"Demand is high , apply high surge.\")\n",
    "    surge_multiplier = 2.0\n",
    "elif demand_level == \"Medium\":\n",
    "    print(\"Demand is medium,applying medium surge.\")\n",
    "    surge_multiplier = 1.5\n",
    "else :\n",
    "    print(\"Demand is low , no surge applied\")\n",
    "    surge_mutiplier = 1.0\n",
    "print (f\"The final surge multiplier is : {surge_multipler}\")"
   ]
  },
  {
   "cell_type": "code",
   "execution_count": 2,
   "id": "30759c6b-2dbe-4b25-b562-34bc3fc984ed",
   "metadata": {},
   "outputs": [
    {
     "name": "stdout",
     "output_type": "stream",
     "text": [
      "A ride of 5km costs Rs. 60\n",
      "A ride of 12km costs Rs. 144\n",
      "A ride of 3km costs Rs. 36\n",
      "A ride of 8km costs Rs. 96\n"
     ]
    }
   ],
   "source": [
    "#for loop \n",
    "ride_distances_km = [5,12,3,8]\n",
    "base_fare_per_km = 12 \n",
    "\n",
    "for distance in ride_distances_km:\n",
    "    final_fare = distance * base_fare_per_km\n",
    "    print(f\"A ride of {distance}km costs Rs. {final_fare}\")"
   ]
  },
  {
   "cell_type": "code",
   "execution_count": 4,
   "id": "d71c76a9-307b-4ec6-bc43-b449847550e0",
   "metadata": {},
   "outputs": [
    {
     "name": "stdout",
     "output_type": "stream",
     "text": [
      "A 10 km ride in high demnad costs: Rs. 240.0\n",
      "A 10 km ride in low demnad costs: Rs. 120.0\n"
     ]
    }
   ],
   "source": [
    "def calculate_final_fare(distance_km , demand_level):\n",
    "    base_fare_per_km = 12\n",
    "    surge_multiplier = 1.0 #default\n",
    "\n",
    "    if demand_level == \"High\":\n",
    "        surge_multiplier = 2.0\n",
    "    elif demand_level == \"medium\":\n",
    "        surge_multiplier = 1.5\n",
    "\n",
    "    final_fare = base_fare_per_km * distance_km * surge_multiplier\n",
    "    return final_fare\n",
    "\n",
    "high_demand_fare = calculate_final_fare(10, \"High\")\n",
    "print(f\"A 10 km ride in high demnad costs: Rs. {high_demand_fare}\")\n",
    "\n",
    "low_demand_fare = calculate_final_fare(10, \"Low\")\n",
    "print(f\"A 10 km ride in low demnad costs: Rs. {low_demand_fare}\")\n"
   ]
  },
  {
   "cell_type": "code",
   "execution_count": 2,
   "id": "2391a8a3-ccfa-4125-ad16-0ef28d5f39f8",
   "metadata": {},
   "outputs": [
    {
     "name": "stdout",
     "output_type": "stream",
     "text": [
      "A 10 km ride in high demnad costs: Rs. 240.0\n",
      "A 10 km ride in low demnad costs: Rs. 120.0\n"
     ]
    }
   ],
   "source": [
    "def calculate_final_fare(distance_km , demand_level):\n",
    "    base_fare_per_km = 12\n",
    "    surge_multiplier = 1.0\n",
    "\n",
    "    if demand_level == \"High\":\n",
    "        surge_multiplier = 2.0\n",
    "    elif demand_level == \"medium\":\n",
    "        surge_multiplier = 1.5\n",
    "\n",
    "    final_fare = base_fare_per_km * distance_km * surge_multiplier \n",
    "    return final_fare \n",
    "\n",
    "high_demand_fare = calculate_final_fare(10, \"High\")\n",
    "print(f\"A 10 km ride in high demnad costs: Rs. {high_demand_fare}\")\n",
    "\n",
    "low_demand_fare = calculate_final_fare(10, \"Low\")\n",
    "print(f\"A 10 km ride in low demnad costs: Rs. {low_demand_fare}\")"
   ]
  },
  {
   "cell_type": "code",
   "execution_count": null,
   "id": "39793527-6338-4518-aa51-c46778956b2c",
   "metadata": {},
   "outputs": [],
   "source": []
  }
 ],
 "metadata": {
  "kernelspec": {
   "display_name": "Python 3 (ipykernel)",
   "language": "python",
   "name": "python3"
  },
  "language_info": {
   "codemirror_mode": {
    "name": "ipython",
    "version": 3
   },
   "file_extension": ".py",
   "mimetype": "text/x-python",
   "name": "python",
   "nbconvert_exporter": "python",
   "pygments_lexer": "ipython3",
   "version": "3.13.5"
  }
 },
 "nbformat": 4,
 "nbformat_minor": 5
}
