{
 "cells": [
  {
   "cell_type": "code",
   "execution_count": 4,
   "id": "50c8b5e5-ec3f-4856-8685-4d435eef6a11",
   "metadata": {},
   "outputs": [
    {
     "data": {
      "text/html": [
       "<div>\n",
       "<style scoped>\n",
       "    .dataframe tbody tr th:only-of-type {\n",
       "        vertical-align: middle;\n",
       "    }\n",
       "\n",
       "    .dataframe tbody tr th {\n",
       "        vertical-align: top;\n",
       "    }\n",
       "\n",
       "    .dataframe thead th {\n",
       "        text-align: right;\n",
       "    }\n",
       "</style>\n",
       "<table border=\"1\" class=\"dataframe\">\n",
       "  <thead>\n",
       "    <tr style=\"text-align: right;\">\n",
       "      <th></th>\n",
       "      <th>timestamp</th>\n",
       "      <th>cab_type</th>\n",
       "      <th>distance_km</th>\n",
       "      <th>temperature_celsius</th>\n",
       "      <th>weather_condition</th>\n",
       "      <th>demand_multiplier</th>\n",
       "    </tr>\n",
       "  </thead>\n",
       "  <tbody>\n",
       "    <tr>\n",
       "      <th>0</th>\n",
       "      <td>2025-07-30 08:30:00</td>\n",
       "      <td>Mini</td>\n",
       "      <td>5.5</td>\n",
       "      <td>28.5</td>\n",
       "      <td>Clear</td>\n",
       "      <td>1.0</td>\n",
       "    </tr>\n",
       "    <tr>\n",
       "      <th>1</th>\n",
       "      <td>2025-07-30 09:15:00</td>\n",
       "      <td>Sedan</td>\n",
       "      <td>12.1</td>\n",
       "      <td>29.0</td>\n",
       "      <td>Clear</td>\n",
       "      <td>1.5</td>\n",
       "    </tr>\n",
       "    <tr>\n",
       "      <th>2</th>\n",
       "      <td>2025-07-30 09:45:00</td>\n",
       "      <td>Mini</td>\n",
       "      <td>3.2</td>\n",
       "      <td>29.2</td>\n",
       "      <td>Clear</td>\n",
       "      <td>1.2</td>\n",
       "    </tr>\n",
       "    <tr>\n",
       "      <th>3</th>\n",
       "      <td>2025-07-30 12:00:00</td>\n",
       "      <td>Sedan</td>\n",
       "      <td>8.0</td>\n",
       "      <td>32.0</td>\n",
       "      <td>Clear</td>\n",
       "      <td>1.0</td>\n",
       "    </tr>\n",
       "    <tr>\n",
       "      <th>4</th>\n",
       "      <td>2025-07-30 13:30:00</td>\n",
       "      <td>Mini</td>\n",
       "      <td>4.5</td>\n",
       "      <td>31.5</td>\n",
       "      <td>Clear</td>\n",
       "      <td>1.0</td>\n",
       "    </tr>\n",
       "    <tr>\n",
       "      <th>5</th>\n",
       "      <td>2025-07-30 17:00:00</td>\n",
       "      <td>SUV</td>\n",
       "      <td>6.7</td>\n",
       "      <td>29.8</td>\n",
       "      <td>Rainy</td>\n",
       "      <td>2.0</td>\n",
       "    </tr>\n",
       "    <tr>\n",
       "      <th>6</th>\n",
       "      <td>2025-07-30 18:30:00</td>\n",
       "      <td>Sedan</td>\n",
       "      <td>15.3</td>\n",
       "      <td>27.5</td>\n",
       "      <td>Rainy</td>\n",
       "      <td>2.5</td>\n",
       "    </tr>\n",
       "    <tr>\n",
       "      <th>7</th>\n",
       "      <td>2025-07-30 19:00:00</td>\n",
       "      <td>Mini</td>\n",
       "      <td>4.1</td>\n",
       "      <td>NaN</td>\n",
       "      <td>Rainy</td>\n",
       "      <td>2.2</td>\n",
       "    </tr>\n",
       "    <tr>\n",
       "      <th>8</th>\n",
       "      <td>2025-07-30 21:00:00</td>\n",
       "      <td>Sedan</td>\n",
       "      <td>9.8</td>\n",
       "      <td>26.0</td>\n",
       "      <td>Clear</td>\n",
       "      <td>1.2</td>\n",
       "    </tr>\n",
       "    <tr>\n",
       "      <th>9</th>\n",
       "      <td>2025-07-30 22:30:00</td>\n",
       "      <td>Mini</td>\n",
       "      <td>7.6</td>\n",
       "      <td>25.5</td>\n",
       "      <td>Foggy</td>\n",
       "      <td>1.8</td>\n",
       "    </tr>\n",
       "  </tbody>\n",
       "</table>\n",
       "</div>"
      ],
      "text/plain": [
       "            timestamp cab_type  distance_km  temperature_celsius  \\\n",
       "0 2025-07-30 08:30:00     Mini          5.5                 28.5   \n",
       "1 2025-07-30 09:15:00    Sedan         12.1                 29.0   \n",
       "2 2025-07-30 09:45:00     Mini          3.2                 29.2   \n",
       "3 2025-07-30 12:00:00    Sedan          8.0                 32.0   \n",
       "4 2025-07-30 13:30:00     Mini          4.5                 31.5   \n",
       "5 2025-07-30 17:00:00      SUV          6.7                 29.8   \n",
       "6 2025-07-30 18:30:00    Sedan         15.3                 27.5   \n",
       "7 2025-07-30 19:00:00     Mini          4.1                  NaN   \n",
       "8 2025-07-30 21:00:00    Sedan          9.8                 26.0   \n",
       "9 2025-07-30 22:30:00     Mini          7.6                 25.5   \n",
       "\n",
       "  weather_condition  demand_multiplier  \n",
       "0             Clear                1.0  \n",
       "1             Clear                1.5  \n",
       "2             Clear                1.2  \n",
       "3             Clear                1.0  \n",
       "4             Clear                1.0  \n",
       "5             Rainy                2.0  \n",
       "6             Rainy                2.5  \n",
       "7             Rainy                2.2  \n",
       "8             Clear                1.2  \n",
       "9             Foggy                1.8  "
      ]
     },
     "execution_count": 4,
     "metadata": {},
     "output_type": "execute_result"
    }
   ],
   "source": [
    "import pandas as pd\n",
    "import numpy as np\n",
    "import sklearn.preprocessing\n",
    "\n",
    "data = {\n",
    "    'timestamp': pd.to_datetime([\n",
    "        '2025-07-30 08:30:00', '2025-07-30 09:15:00', '2025-07-30 09:45:00',\n",
    "        '2025-07-30 12:00:00', '2025-07-30 13:30:00', '2025-07-30 17:00:00',\n",
    "        '2025-07-30 18:30:00', '2025-07-30 19:00:00', '2025-07-30 21:00:00',\n",
    "        '2025-07-30 22:30:00'\n",
    "    ]),\n",
    "    'cab_type': ['Mini', 'Sedan', 'Mini', 'Sedan', 'Mini', 'SUV', 'Sedan', 'Mini', 'Sedan', 'Mini'],\n",
    "    'distance_km': [5.5, 12.1, 3.2, 8.0, 4.5, 6.7, 15.3, 4.1, 9.8, 7.6],\n",
    "    'temperature_celsius': [28.5, 29.0, 29.2, 32.0, 31.5, 29.8, 27.5, np.nan, 26.0, 25.5],\n",
    "    'weather_condition': ['Clear', 'Clear', 'Clear', 'Clear', 'Clear', 'Rainy', 'Rainy', 'Rainy', 'Clear', 'Foggy'],\n",
    "    'demand_multiplier': [1.0, 1.5, 1.2, 1.0, 1.0, 2.0, 2.5, 2.2, 1.2, 1.8]\n",
    "}\n",
    "\n",
    "df = pd.DataFrame(data)\n",
    "df\n",
    "\n"
   ]
  },
  {
   "cell_type": "code",
   "execution_count": 5,
   "id": "2d3144c9-ecbb-4bba-a201-6c2ff540a700",
   "metadata": {},
   "outputs": [
    {
     "name": "stdout",
     "output_type": "stream",
     "text": [
      "---Missing values in original data\n",
      "timestamp              0\n",
      "cab_type               0\n",
      "distance_km            0\n",
      "temperature_celsius    1\n",
      "weather_condition      0\n",
      "demand_multiplier      0\n",
      "dtype: int64\n"
     ]
    }
   ],
   "source": [
    "#finding missing values\n",
    "print(\"---Missing values in original data\")\n",
    "print(df.isnull().sum())\n"
   ]
  },
  {
   "cell_type": "code",
   "execution_count": 6,
   "id": "cbffc0f0-a378-4f96-98d3-db1073de9d1c",
   "metadata": {},
   "outputs": [
    {
     "name": "stdout",
     "output_type": "stream",
     "text": [
      "\n",
      "--- Missing Values After Artificial Removal ---\n",
      "timestamp              0\n",
      "cab_type               0\n",
      "distance_km            0\n",
      "temperature_celsius    1\n",
      "weather_condition      0\n",
      "demand_multiplier      0\n",
      "dtype: int64\n"
     ]
    }
   ],
   "source": [
    "# Artificially add some missing values to the 'temperature_celsius' column for practice\n",
    "# df.loc[df.sample(frac=0.05, random_state=42).index, 'temperature_celsius'] = np.nan\n",
    "\n",
    "print(\"\\n--- Missing Values After Artificial Removal ---\")\n",
    "print(df.isnull().sum())"
   ]
  },
  {
   "cell_type": "code",
   "execution_count": 7,
   "id": "cb1c36c7-7904-4579-91c3-224b9e4fe39d",
   "metadata": {},
   "outputs": [
    {
     "name": "stdout",
     "output_type": "stream",
     "text": [
      "\n",
      "The median temperature to fill with is: 29.00\n",
      "timestamp              0\n",
      "cab_type               0\n",
      "distance_km            0\n",
      "temperature_celsius    0\n",
      "weather_condition      0\n",
      "demand_multiplier      0\n",
      "dtype: int64\n",
      "\n",
      "--- Missing Values After Imputation ---\n",
      "timestamp              0\n",
      "cab_type               0\n",
      "distance_km            0\n",
      "temperature_celsius    0\n",
      "weather_condition      0\n",
      "demand_multiplier      0\n",
      "dtype: int64\n"
     ]
    },
    {
     "name": "stderr",
     "output_type": "stream",
     "text": [
      "C:\\Users\\D A T A\\AppData\\Local\\Temp\\ipykernel_14768\\139016752.py:6: FutureWarning: A value is trying to be set on a copy of a DataFrame or Series through chained assignment using an inplace method.\n",
      "The behavior will change in pandas 3.0. This inplace method will never work because the intermediate object on which we are setting values always behaves as a copy.\n",
      "\n",
      "For example, when doing 'df[col].method(value, inplace=True)', try using 'df.method({col: value}, inplace=True)' or df[col] = df[col].method(value) instead, to perform the operation inplace on the original object.\n",
      "\n",
      "\n",
      "  df['temperature_celsius'].fillna(median_temp,inplace=True)\n"
     ]
    }
   ],
   "source": [
    "median_temp = df['temperature_celsius'].median()\n",
    "print(f\"\\nThe median temperature to fill with is: {median_temp:.2f}\")\n",
    "\n",
    "# 2. Fill the missing values (NaNs) with the median\n",
    "# inplace=True modifies the DataFrame directly\n",
    "df['temperature_celsius'].fillna(median_temp,inplace=True)\n",
    "print(df.isnull().sum())\n",
    "\n",
    "print(\"\\n--- Missing Values After Imputation ---\")\n",
    "print(df.isnull().sum())"
   ]
  },
  {
   "cell_type": "code",
   "execution_count": 8,
   "id": "7e5e18ca-5fa4-4ed1-9020-683c91bbd49b",
   "metadata": {},
   "outputs": [
    {
     "name": "stdout",
     "output_type": "stream",
     "text": [
      "--- DataFrame Before Encoding (First 5 Rows) ---\n",
      "            timestamp cab_type  distance_km  temperature_celsius  \\\n",
      "0 2025-07-30 08:30:00     Mini          5.5                 28.5   \n",
      "1 2025-07-30 09:15:00    Sedan         12.1                 29.0   \n",
      "2 2025-07-30 09:45:00     Mini          3.2                 29.2   \n",
      "3 2025-07-30 12:00:00    Sedan          8.0                 32.0   \n",
      "4 2025-07-30 13:30:00     Mini          4.5                 31.5   \n",
      "\n",
      "  weather_condition  demand_multiplier  \n",
      "0             Clear                1.0  \n",
      "1             Clear                1.5  \n",
      "2             Clear                1.2  \n",
      "3             Clear                1.0  \n",
      "4             Clear                1.0  \n"
     ]
    }
   ],
   "source": [
    "#implementing with pd_getdummies\n",
    "print(\"--- DataFrame Before Encoding (First 5 Rows) ---\")\n",
    "print(df.head())\n"
   ]
  },
  {
   "cell_type": "code",
   "execution_count": 9,
   "id": "4511f07a-edbe-4c99-a223-9bab9d536fcb",
   "metadata": {},
   "outputs": [
    {
     "name": "stdout",
     "output_type": "stream",
     "text": [
      "\n",
      "--- Data frame after encoding ----\n",
      "            timestamp  distance_km  temperature_celsius  demand_multiplier  \\\n",
      "0 2025-07-30 08:30:00          5.5                 28.5                1.0   \n",
      "1 2025-07-30 09:15:00         12.1                 29.0                1.5   \n",
      "2 2025-07-30 09:45:00          3.2                 29.2                1.2   \n",
      "3 2025-07-30 12:00:00          8.0                 32.0                1.0   \n",
      "4 2025-07-30 13:30:00          4.5                 31.5                1.0   \n",
      "\n",
      "   cab_type_SUV  cab_type_Sedan  weather_condition_Foggy  \\\n",
      "0         False           False                    False   \n",
      "1         False            True                    False   \n",
      "2         False           False                    False   \n",
      "3         False            True                    False   \n",
      "4         False           False                    False   \n",
      "\n",
      "   weather_condition_Rainy  \n",
      "0                    False  \n",
      "1                    False  \n",
      "2                    False  \n",
      "3                    False  \n",
      "4                    False  \n"
     ]
    }
   ],
   "source": [
    "df_encoded = pd.get_dummies(df , columns=['cab_type','weather_condition'], drop_first=True)\n",
    "\n",
    "#see the result\n",
    "print(\"\\n--- Data frame after encoding ----\")\n",
    "print(df_encoded.head())"
   ]
  },
  {
   "cell_type": "code",
   "execution_count": 10,
   "id": "ebd67ae3-ee9f-48bf-b2d0-641510c5c690",
   "metadata": {},
   "outputs": [
    {
     "name": "stdout",
     "output_type": "stream",
     "text": [
      "\n",
      "New columns created: Index(['timestamp', 'distance_km', 'temperature_celsius', 'demand_multiplier',\n",
      "       'cab_type_SUV', 'cab_type_Sedan', 'weather_condition_Foggy',\n",
      "       'weather_condition_Rainy'],\n",
      "      dtype='object')\n"
     ]
    }
   ],
   "source": [
    "print(\"\\nNew columns created:\", df_encoded.columns)"
   ]
  },
  {
   "cell_type": "code",
   "execution_count": 11,
   "id": "2416d892-8eb2-413b-a060-f742290ad926",
   "metadata": {},
   "outputs": [
    {
     "name": "stdout",
     "output_type": "stream",
     "text": [
      "Data type of 'timestamp' BEFORE conversion: datetime64[ns]\n",
      "Data type of 'timestamp' AFTER conversion: datetime64[ns]\n"
     ]
    }
   ],
   "source": [
    "#day 13 \n",
    "df_encoded = pd.get_dummies(df, columns=['cab_type', 'weather_condition'], drop_first = True)\n",
    "print(\"Data type of 'timestamp' BEFORE conversion:\", df_encoded['timestamp'].dtype)\n",
    "\n",
    "#Convert the column to datetime objects using pd.to_datetime\n",
    "df_encoded['timestamp'] = pd.to_datetime(df_encoded['timestamp'])\n",
    "\n",
    "print(\"Data type of 'timestamp' AFTER conversion:\", df_encoded['timestamp'].dtype)\n"
   ]
  },
  {
   "cell_type": "code",
   "execution_count": 12,
   "id": "4eca1ab0-24c4-4bcc-95c7-6084ebd56bcd",
   "metadata": {},
   "outputs": [
    {
     "name": "stdout",
     "output_type": "stream",
     "text": [
      "\n",
      "--- DataFrame with New Time-Based Features ---\n",
      "   hour_of_day  day_of_week  is_weekend\n",
      "0            2            2           0\n",
      "1            2            2           0\n",
      "2            2            2           0\n",
      "3            2            2           0\n",
      "4            2            2           0\n",
      "\n",
      "--- All Final Columns ---\n",
      "Index(['distance_km', 'temperature_celsius', 'demand_multiplier',\n",
      "       'cab_type_SUV', 'cab_type_Sedan', 'weather_condition_Foggy',\n",
      "       'weather_condition_Rainy', 'hour_of_day', 'day_of_week', 'is_weekend'],\n",
      "      dtype='object')\n"
     ]
    }
   ],
   "source": [
    "#extracting new fatures with .dt from date and time column\n",
    "df_encoded['hour_of_day'] = df_encoded['timestamp'].dt.dayofweek\n",
    "df_encoded['day_of_week'] = df_encoded['timestamp'].dt.dayofweek  # Monday=0, Sunday=6\n",
    "df_encoded['is_weekend'] = (df_encoded['timestamp'].dt.dayofweek >= 5).astype(int)  # 1 if True, 0 if False\n",
    "\n",
    "df_final = df_encoded.drop('timestamp', axis=1)\n",
    "\n",
    "#final column\n",
    "print(\"\\n--- DataFrame with New Time-Based Features ---\")\n",
    "print(df_final[['hour_of_day', 'day_of_week', 'is_weekend']].head())\n",
    "\n",
    "print(\"\\n--- All Final Columns ---\")\n",
    "print(df_final.columns)\n",
    "\n",
    "\n"
   ]
  },
  {
   "cell_type": "code",
   "execution_count": 13,
   "id": "72f5b75b-2c92-4cc9-8c35-ecd3c72df0d7",
   "metadata": {},
   "outputs": [
    {
     "name": "stdout",
     "output_type": "stream",
     "text": [
      "---Shape of our features(X)---\n",
      "(10, 9)\n",
      "\n",
      "--- Shape of our Target (y) ---\n",
      "(10,)\n"
     ]
    }
   ],
   "source": [
    "# Feature scaling puts all features on a level playing field, ensuring that the model judges them based on their predictive power, not their arbitrary scale.\n",
    "#now separate features and target \n",
    "\n",
    "X = df_final.drop('demand_multiplier', axis=1)\n",
    "y = df_final['demand_multiplier']\n",
    "\n",
    "print(\"---Shape of our features(X)---\")\n",
    "print(X.shape)\n",
    "\n",
    "print(\"\\n--- Shape of our Target (y) ---\")\n",
    "print(y.shape)\n"
   ]
  },
  {
   "cell_type": "code",
   "execution_count": 14,
   "id": "c55d97a6-5c30-4bc1-838f-2341b4842814",
   "metadata": {},
   "outputs": [
    {
     "name": "stdout",
     "output_type": "stream",
     "text": [
      "\n",
      "---Scaled Features---\n",
      "   distance_km  temperature_celsius  cab_type_SUV  cab_type_Sedan  \\\n",
      "0    -0.602504            -0.151369     -0.333333       -0.816497   \n",
      "1     1.221591             0.100912     -0.333333        1.224745   \n",
      "2    -1.238174             0.201825     -0.333333       -0.816497   \n",
      "3     0.088441             1.614597     -0.333333        1.224745   \n",
      "4    -0.878882             1.362317     -0.333333       -0.816497   \n",
      "\n",
      "   weather_condition_Foggy  weather_condition_Rainy  hour_of_day  day_of_week  \\\n",
      "0                -0.333333                -0.654654          0.0          0.0   \n",
      "1                -0.333333                -0.654654          0.0          0.0   \n",
      "2                -0.333333                -0.654654          0.0          0.0   \n",
      "3                -0.333333                -0.654654          0.0          0.0   \n",
      "4                -0.333333                -0.654654          0.0          0.0   \n",
      "\n",
      "   is_weekend  \n",
      "0         0.0  \n",
      "1         0.0  \n",
      "2         0.0  \n",
      "3         0.0  \n",
      "4         0.0  \n",
      "\n",
      "---Statistical Summary of Scaled Features---\n",
      "        distance_km  temperature_celsius  cab_type_SUV  cab_type_Sedan  \\\n",
      "count  1.000000e+01         1.000000e+01  1.000000e+01    1.000000e+01   \n",
      "mean   9.402201e-17        -3.552714e-16 -3.330669e-17   -4.440892e-17   \n",
      "std    1.054093e+00         1.054093e+00  1.054093e+00    1.054093e+00   \n",
      "min   -1.238174e+00        -1.665054e+00 -3.333333e-01   -8.164966e-01   \n",
      "25%   -8.097879e-01        -5.297898e-01 -3.333333e-01   -8.164966e-01   \n",
      "50%   -1.464804e-01         1.009123e-01 -3.333333e-01   -8.164966e-01   \n",
      "75%    4.615514e-01         4.288774e-01 -3.333333e-01    1.224745e+00   \n",
      "max    2.106001e+00         1.614597e+00  3.000000e+00    1.224745e+00   \n",
      "\n",
      "       weather_condition_Foggy  weather_condition_Rainy  hour_of_day  \\\n",
      "count             1.000000e+01             1.000000e+01         10.0   \n",
      "mean             -4.440892e-17            -2.220446e-17          0.0   \n",
      "std               1.054093e+00             1.054093e+00          0.0   \n",
      "min              -3.333333e-01            -6.546537e-01          0.0   \n",
      "25%              -3.333333e-01            -6.546537e-01          0.0   \n",
      "50%              -3.333333e-01            -6.546537e-01          0.0   \n",
      "75%              -3.333333e-01             9.819805e-01          0.0   \n",
      "max               3.000000e+00             1.527525e+00          0.0   \n",
      "\n",
      "       day_of_week  is_weekend  \n",
      "count         10.0        10.0  \n",
      "mean           0.0         0.0  \n",
      "std            0.0         0.0  \n",
      "min            0.0         0.0  \n",
      "25%            0.0         0.0  \n",
      "50%            0.0         0.0  \n",
      "75%            0.0         0.0  \n",
      "max            0.0         0.0  \n"
     ]
    }
   ],
   "source": [
    "from sklearn.preprocessing import StandardScaler\n",
    "\n",
    "#initializing the scaler\n",
    "scaler = StandardScaler()\n",
    "\n",
    "#fit the scaler to the features and transform them\n",
    "#.fit_transform() calculates the mean/std and applies the transformation in one step\n",
    "X_scaled = scaler.fit_transform(X)\n",
    "\n",
    "#the output is a numpy array , so lets convert it dataframe to view it\n",
    "X_scaled_df = pd.DataFrame(X_scaled , columns=X.columns)\n",
    "\n",
    "print(\"\\n---Scaled Features---\")\n",
    "print(X_scaled_df.head())\n",
    "\n",
    "#lets verufy the scaling\n",
    "print(\"\\n---Statistical Summary of Scaled Features---\")\n",
    "print(X_scaled_df.describe())"
   ]
  },
  {
   "cell_type": "code",
   "execution_count": 15,
   "id": "16269fcf-82df-4bb2-a03b-e085161d81f4",
   "metadata": {},
   "outputs": [
    {
     "name": "stdout",
     "output_type": "stream",
     "text": [
      "---Shapes of Split Data---\n",
      "X_train shape: (8, 9)\n",
      "X_test shape: (2, 9)\n",
      "y_train shape: (8,)\n",
      "y_test shape: (2,)\n"
     ]
    }
   ],
   "source": [
    "from sklearn.model_selection import train_test_split\n",
    "\n",
    "#performing the split\n",
    "X_train , X_test , y_train , y_test = train_test_split(\n",
    "    X_scaled,\n",
    "    y,\n",
    "    test_size=0.2,\n",
    "    random_state=42\n",
    ")\n",
    "\n",
    "#lets check the shapes of our new datasets to verify the split\n",
    "print(\"---Shapes of Split Data---\")\n",
    "print(\"X_train shape:\", X_train.shape)\n",
    "print(\"X_test shape:\", X_test.shape)\n",
    "print(\"y_train shape:\", y_train.shape)\n",
    "print(\"y_test shape:\", y_test.shape)"
   ]
  },
  {
   "cell_type": "code",
   "execution_count": 16,
   "id": "9bd6b353-66ec-4545-9a7c-80335187a58d",
   "metadata": {},
   "outputs": [],
   "source": [
    "# 📘 Concept: Intuition of Linear Regression (in easy words)\n",
    "# Linear Regression is like drawing the best straight line through a bunch of dots (data points) on a graph.\n",
    "\n",
    "# This line helps us predict something (like sales, prices, etc.) based on other things (like time, temperature, ads spent, etc.).\n",
    "\n",
    "# It uses a formula like:\n",
    "\n",
    "# ini\n",
    "# Copy code\n",
    "# prediction = beta_0 + (beta_1 × feature_1) + (beta_2 × feature_2) + ...\n",
    "# beta_0 is a starting value (also called intercept).\n",
    "\n",
    "# beta_1, beta_2, etc. are weights or multipliers for each feature (called coefficients).\n",
    "\n",
    "# feature_1, feature_2, etc. are the input values (like time, price, etc.).\n",
    "\n",
    "# 🔍 The model learns by finding the best values for these betas so the line fits the data as closely as possible."
   ]
  },
  {
   "cell_type": "code",
   "execution_count": 17,
   "id": "773aad35-8427-4f4c-a9d8-98f520df2cfa",
   "metadata": {},
   "outputs": [
    {
     "name": "stdout",
     "output_type": "stream",
     "text": [
      "Training the Linear Regression model...\n",
      "Training Complete\n"
     ]
    }
   ],
   "source": [
    "from sklearn.linear_model import LinearRegression\n",
    "\n",
    "#instantiate model\n",
    "lr_model = LinearRegression()\n",
    "\n",
    "print(\"Training the Linear Regression model...\")\n",
    "\n",
    "lr_model.fit(X_train, y_train)\n",
    "print(\"Training Complete\")\n"
   ]
  },
  {
   "cell_type": "code",
   "execution_count": 18,
   "id": "86e84f81-d20d-4979-acc0-52a2ba6b81b4",
   "metadata": {},
   "outputs": [],
   "source": [
    "# single .fit() command, the model analyzed all your training data and learned the optimal coefficients to predict the demand multiplier"
   ]
  },
  {
   "cell_type": "code",
   "execution_count": 19,
   "id": "03bacd48-34ba-4533-84fd-80147e93cd4c",
   "metadata": {},
   "outputs": [
    {
     "name": "stdout",
     "output_type": "stream",
     "text": [
      "--- Prediction vs. Actual ---\n",
      "Predicted values: [1.34821756 1.21581725]\n",
      "Actual values: [1.2 1.5]\n"
     ]
    }
   ],
   "source": [
    "#how to predict \n",
    "\n",
    "#predict demand multiplier for the test data\n",
    "y_pred = lr_model.predict(X_test)\n",
    "\n",
    "#lets compare\n",
    "print(\"--- Prediction vs. Actual ---\")\n",
    "\n",
    "#.values gives us the raw numbers from the y_test series for a clean look \n",
    "print(f\"Predicted values: {y_pred[:5]}\")\n",
    "print(f\"Actual values: {y_test.values[:5]}\")"
   ]
  },
  {
   "cell_type": "code",
   "execution_count": 20,
   "id": "9a6720d1-d3e6-4939-907f-81c1282acef0",
   "metadata": {},
   "outputs": [
    {
     "name": "stdout",
     "output_type": "stream",
     "text": [
      "\n",
      "Mean absolute error(MAE): 0.2162\n",
      "R-squared (R2): -1.2829\n"
     ]
    }
   ],
   "source": [
    "from sklearn.metrics import mean_absolute_error , r2_score\n",
    "\n",
    "#calculation mean absolute error \n",
    "mae = mean_absolute_error(y_test , y_pred)\n",
    "print(f\"\\nMean absolute error(MAE): {mae:.4f}\")\n",
    "\n",
    "#calculate the r-squared score \n",
    "r2 = r2_score(y_test , y_pred)\n",
    "print(f\"R-squared (R2): {r2:.4f}\")"
   ]
  },
  {
   "cell_type": "code",
   "execution_count": 21,
   "id": "e85109f1-4119-41db-9625-c4473ed59879",
   "metadata": {},
   "outputs": [
    {
     "name": "stdout",
     "output_type": "stream",
     "text": [
      "Training the random forest model...(This might a moment )\n",
      "Training complete!\n",
      "\n",
      "--- Random Forest Performance---\n",
      "Mean Absolute Error(MAE): 0.2580\n",
      "R-squared(R2): -2.2428\n"
     ]
    }
   ],
   "source": [
    "from sklearn.ensemble import RandomForestRegressor\n",
    "from sklearn.metrics import mean_absolute_error, r2_score\n",
    "\n",
    "#instantinate the model\n",
    "#n_estimators is the number of trees in our forest.100 is good staritng \n",
    "#n_jobs=-1 tells the model to use all available CPU cores to speed up training\n",
    "\n",
    "rf_model = RandomForestRegressor(n_estimators=100, random_state=42, n_jobs=-1)\n",
    "\n",
    "#lets fit the model \n",
    "print(\"Training the random forest model...(This might a moment )\")\n",
    "rf_model.fit(X_train, y_train)\n",
    "print(\"Training complete!\")\n",
    "\n",
    "#making prediction on test set \n",
    "y_pred_rf = rf_model.predict(X_test)\n",
    "\n",
    "#evaluate the models performance\n",
    "mae_rf = mean_absolute_error(y_test , y_pred_rf)\n",
    "r2_rf = r2_score(y_test, y_pred_rf)\n",
    "\n",
    "print(\"\\n--- Random Forest Performance---\")\n",
    "print(f\"Mean Absolute Error(MAE): {mae_rf:.4f}\")\n",
    "print(f\"R-squared(R2): {r2_rf:.4f}\")\n"
   ]
  },
  {
   "cell_type": "code",
   "execution_count": 22,
   "id": "bc934859-c630-4e1b-bba7-0b78150e22e6",
   "metadata": {},
   "outputs": [
    {
     "name": "stdout",
     "output_type": "stream",
     "text": [
      "starting grid search.... this might take a few minutes \n",
      "Fitting 3 folds for each of 8 candidates, totalling 24 fits\n",
      "[CV 1/3] END max_depth=10, min_samples_split=2, n_estimators=50;, score=-0.648 total time=   0.1s\n",
      "[CV 2/3] END max_depth=10, min_samples_split=2, n_estimators=50;, score=0.279 total time=   0.0s\n",
      "[CV 3/3] END max_depth=10, min_samples_split=2, n_estimators=50;, score=0.614 total time=   0.0s\n",
      "[CV 1/3] END max_depth=10, min_samples_split=2, n_estimators=150;, score=-0.341 total time=   0.1s\n",
      "[CV 2/3] END max_depth=10, min_samples_split=2, n_estimators=150;, score=0.025 total time=   0.1s\n",
      "[CV 3/3] END max_depth=10, min_samples_split=2, n_estimators=150;, score=0.559 total time=   0.1s\n",
      "[CV 1/3] END max_depth=10, min_samples_split=5, n_estimators=50;, score=-0.194 total time=   0.0s\n",
      "[CV 2/3] END max_depth=10, min_samples_split=5, n_estimators=50;, score=-1.275 total time=   0.0s\n",
      "[CV 3/3] END max_depth=10, min_samples_split=5, n_estimators=50;, score=0.177 total time=   0.0s\n",
      "[CV 1/3] END max_depth=10, min_samples_split=5, n_estimators=150;, score=-0.232 total time=   0.0s\n",
      "[CV 2/3] END max_depth=10, min_samples_split=5, n_estimators=150;, score=-1.288 total time=   0.1s\n",
      "[CV 3/3] END max_depth=10, min_samples_split=5, n_estimators=150;, score=0.154 total time=   0.1s\n",
      "[CV 1/3] END max_depth=30, min_samples_split=2, n_estimators=50;, score=-0.648 total time=   0.0s\n",
      "[CV 2/3] END max_depth=30, min_samples_split=2, n_estimators=50;, score=0.279 total time=   0.0s\n",
      "[CV 3/3] END max_depth=30, min_samples_split=2, n_estimators=50;, score=0.614 total time=   0.0s\n",
      "[CV 1/3] END max_depth=30, min_samples_split=2, n_estimators=150;, score=-0.341 total time=   0.1s\n",
      "[CV 2/3] END max_depth=30, min_samples_split=2, n_estimators=150;, score=0.025 total time=   0.1s\n",
      "[CV 3/3] END max_depth=30, min_samples_split=2, n_estimators=150;, score=0.559 total time=   0.1s\n",
      "[CV 1/3] END max_depth=30, min_samples_split=5, n_estimators=50;, score=-0.194 total time=   0.0s\n",
      "[CV 2/3] END max_depth=30, min_samples_split=5, n_estimators=50;, score=-1.275 total time=   0.0s\n",
      "[CV 3/3] END max_depth=30, min_samples_split=5, n_estimators=50;, score=0.177 total time=   0.0s\n",
      "[CV 1/3] END max_depth=30, min_samples_split=5, n_estimators=150;, score=-0.232 total time=   0.2s\n",
      "[CV 2/3] END max_depth=30, min_samples_split=5, n_estimators=150;, score=-1.288 total time=   0.1s\n",
      "[CV 3/3] END max_depth=30, min_samples_split=5, n_estimators=150;, score=0.154 total time=   0.1s\n",
      "\n",
      "Best Parameters found:\n",
      "{'max_depth': 10, 'min_samples_split': 2, 'n_estimators': 50}\n"
     ]
    }
   ],
   "source": [
    "from sklearn.model_selection import GridSearchCV\n",
    "from sklearn.ensemble import RandomForestRegressor\n",
    "\n",
    "#grid of hyperparametrs \n",
    "#we are testing 2x2x2 = 8combinations\n",
    "\n",
    "param_grid = {\n",
    "    'n_estimators' : [50,150],\n",
    "    'max_depth' : [10,30],\n",
    "    'min_samples_split' : [2,5]\n",
    "}\n",
    "\n",
    "#2.instantaniate the GridSearchCV object\n",
    "# cv=3 means 3-fold cross-validation\n",
    "#verbose will print updates so we can see it working \n",
    "grid_search = GridSearchCV(\n",
    "    estimator = RandomForestRegressor(random_state=42 , n_jobs = -1),\n",
    "    param_grid = param_grid,\n",
    "    cv=3,\n",
    "    verbose=3\n",
    ")\n",
    "\n",
    "#3. fit the grid search to our training data\n",
    "#this will test all 8 combinations across 3 folds (24 fits in total )\n",
    "print(\"starting grid search.... this might take a few minutes \")\n",
    "grid_search.fit(X_train, y_train)\n",
    "\n",
    "#best parameters\n",
    "print(\"\\nBest Parameters found:\")\n",
    "print(grid_search.best_params_)\n"
   ]
  },
  {
   "cell_type": "code",
   "execution_count": 23,
   "id": "a66146de-84e5-41b3-8587-36de924e10ae",
   "metadata": {},
   "outputs": [
    {
     "data": {
      "image/png": "[encoded data removed]",
      "text/plain": [
       "<Figure size 1200x800 with 1 Axes>"
      ]
     },
     "metadata": {},
     "output_type": "display_data"
    }
   ],
   "source": [
    "import matplotlib.pyplot as plt\n",
    "import seaborn as sns\n",
    "#important scores \n",
    "importances = rf_model.feature_importances_\n",
    "\n",
    "#get the names of the features \n",
    "feature_names = X.columns\n",
    "\n",
    "#create a pandas series to make it easy to to view and sort\n",
    "feature_importance_df = pd.Series(importances , index=feature_names).sort_values(ascending=False)\n",
    "\n",
    "#plotting\n",
    "plt.figure(figsize=(12,8))\n",
    "sns.barplot(x=feature_importance_df, y=feature_importance_df.index)\n",
    "\n",
    "plt.title('Feature importance from Random Forest Model')\n",
    "plt.xlabel('Importance Score')\n",
    "plt.ylabel('Features')\n",
    "plt.show()"
   ]
  },
  {
   "cell_type": "code",
   "execution_count": 24,
   "id": "19bf69f7",
   "metadata": {},
   "outputs": [
    {
     "name": "stdout",
     "output_type": "stream",
     "text": [
      "Successfully saved training_columns.joblib\n"
     ]
    }
   ],
   "source": [
    "import joblib\n",
    "\n",
    "# Make sure 'X_train_processed' is the name of your final,\n",
    "# preprocessed training DataFrame before you trained the model.\n",
    "# It contains all the one-hot encoded and engineered columns.\n",
    "# Use the name of your DataFrame before scaling\n",
    "training_cols = X.columns.tolist()\n",
    "\n",
    "joblib.dump(training_cols, 'training_columns.joblib')\n",
    "\n",
    "print(\"Successfully saved training_columns.joblib\")"
   ]
  },
  {
   "cell_type": "code",
   "execution_count": null,
   "id": "b913b307-4c37-4857-9bb5-be075fb4f57d",
   "metadata": {},
   "outputs": [],
   "source": []
  }
 ],
 "metadata": {
  "kernelspec": {
   "display_name": "Python 3 (ipykernel)",
   "language": "python",
   "name": "python3"
  },
  "language_info": {
   "codemirror_mode": {
    "name": "ipython",
    "version": 3
   },
   "file_extension": ".py",
   "mimetype": "text/x-python",
   "name": "python",
   "nbconvert_exporter": "python",
   "pygments_lexer": "ipython3",
   "version": "3.13.5"
  }
 },
 "nbformat": 4,
 "nbformat_minor": 5
}
