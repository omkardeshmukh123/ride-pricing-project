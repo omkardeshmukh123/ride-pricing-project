{
 "cells": [
  {
   "cell_type": "code",
   "execution_count": 2,
   "id": "0887e56a-c392-4882-9d2a-d08017424563",
   "metadata": {},
   "outputs": [
    {
     "data": {
      "text/html": [
       "<div>\n",
       "<style scoped>\n",
       "    .dataframe tbody tr th:only-of-type {\n",
       "        vertical-align: middle;\n",
       "    }\n",
       "\n",
       "    .dataframe tbody tr th {\n",
       "        vertical-align: top;\n",
       "    }\n",
       "\n",
       "    .dataframe thead th {\n",
       "        text-align: right;\n",
       "    }\n",
       "</style>\n",
       "<table border=\"1\" class=\"dataframe\">\n",
       "  <thead>\n",
       "    <tr style=\"text-align: right;\">\n",
       "      <th></th>\n",
       "      <th>driver_name</th>\n",
       "      <th>destination</th>\n",
       "      <th>distance_km</th>\n",
       "      <th>fare_rs</th>\n",
       "    </tr>\n",
       "  </thead>\n",
       "  <tbody>\n",
       "    <tr>\n",
       "      <th>0</th>\n",
       "      <td>Suresh</td>\n",
       "      <td>Koregaon Park</td>\n",
       "      <td>5</td>\n",
       "      <td>150</td>\n",
       "    </tr>\n",
       "    <tr>\n",
       "      <th>1</th>\n",
       "      <td>Riya</td>\n",
       "      <td>Hinjawadi</td>\n",
       "      <td>22</td>\n",
       "      <td>450</td>\n",
       "    </tr>\n",
       "    <tr>\n",
       "      <th>2</th>\n",
       "      <td>amit</td>\n",
       "      <td>FC Road</td>\n",
       "      <td>8</td>\n",
       "      <td>180</td>\n",
       "    </tr>\n",
       "  </tbody>\n",
       "</table>\n",
       "</div>"
      ],
      "text/plain": [
       "  driver_name    destination  distance_km  fare_rs\n",
       "0      Suresh  Koregaon Park            5      150\n",
       "1        Riya      Hinjawadi           22      450\n",
       "2        amit        FC Road            8      180"
      ]
     },
     "execution_count": 2,
     "metadata": {},
     "output_type": "execute_result"
    }
   ],
   "source": [
    "import pandas as pd\n",
    "\n",
    "ride_data = {\n",
    "    'driver_name' : ['Suresh','Riya','amit'],\n",
    "    'destination': ['Koregaon Park', 'Hinjawadi', 'FC Road'],\n",
    "    'distance_km': [5, 22, 8],\n",
    "    'fare_rs': [150, 450, 180]\n",
    "}\n",
    "\n",
    "#Dataframe\n",
    "rides_df = pd.DataFrame(ride_data)\n",
    "\n",
    "rides_df"
   ]
  },
  {
   "cell_type": "code",
   "execution_count": 4,
   "id": "ab2952f5-fb1f-4fe4-8708-9eda92f319ba",
   "metadata": {},
   "outputs": [
    {
     "name": "stdout",
     "output_type": "stream",
     "text": [
      "data loaded fromrides_data.csv\n"
     ]
    },
    {
     "data": {
      "text/html": [
       "<div>\n",
       "<style scoped>\n",
       "    .dataframe tbody tr th:only-of-type {\n",
       "        vertical-align: middle;\n",
       "    }\n",
       "\n",
       "    .dataframe tbody tr th {\n",
       "        vertical-align: top;\n",
       "    }\n",
       "\n",
       "    .dataframe thead th {\n",
       "        text-align: right;\n",
       "    }\n",
       "</style>\n",
       "<table border=\"1\" class=\"dataframe\">\n",
       "  <thead>\n",
       "    <tr style=\"text-align: right;\">\n",
       "      <th></th>\n",
       "      <th>driver_name</th>\n",
       "      <th>destination</th>\n",
       "      <th>distance_km</th>\n",
       "      <th>fare_rs</th>\n",
       "    </tr>\n",
       "  </thead>\n",
       "  <tbody>\n",
       "    <tr>\n",
       "      <th>0</th>\n",
       "      <td>Suresh</td>\n",
       "      <td>Koregaon Park</td>\n",
       "      <td>5</td>\n",
       "      <td>150</td>\n",
       "    </tr>\n",
       "    <tr>\n",
       "      <th>1</th>\n",
       "      <td>Riya</td>\n",
       "      <td>Hinjawadi</td>\n",
       "      <td>22</td>\n",
       "      <td>450</td>\n",
       "    </tr>\n",
       "    <tr>\n",
       "      <th>2</th>\n",
       "      <td>amit</td>\n",
       "      <td>FC Road</td>\n",
       "      <td>8</td>\n",
       "      <td>180</td>\n",
       "    </tr>\n",
       "  </tbody>\n",
       "</table>\n",
       "</div>"
      ],
      "text/plain": [
       "  driver_name    destination  distance_km  fare_rs\n",
       "0      Suresh  Koregaon Park            5      150\n",
       "1        Riya      Hinjawadi           22      450\n",
       "2        amit        FC Road            8      180"
      ]
     },
     "execution_count": 4,
     "metadata": {},
     "output_type": "execute_result"
    }
   ],
   "source": [
    "# First, let's save our DataFrame to a CSV file to simulate a real-world scenario\n",
    "#index=False prevents Pandas from writing the row numbers to the file\n",
    "\n",
    "rides_df.to_csv('rides_data.csv', index=False)\n",
    "\n",
    "#loading back into a dataframe\n",
    "loaded_rides_df = pd.read_csv('rides_data.csv')\n",
    "\n",
    "print(\"data loaded fromrides_data.csv\")\n",
    "loaded_rides_df"
   ]
  },
  {
   "cell_type": "code",
   "execution_count": 8,
   "id": "782fc891-2912-4224-8631-471e60b6446d",
   "metadata": {},
   "outputs": [
    {
     "name": "stdout",
     "output_type": "stream",
     "text": [
      "---- First 2 Rows (head) ---\n",
      "  driver_name    destination  distance_km  fare_rs\n",
      "0      Suresh  Koregaon Park            5      150\n",
      "1        Riya      Hinjawadi           22      450\n"
     ]
    }
   ],
   "source": [
    "#commands to inspect the data \n",
    "\n",
    "#to see the first two rows of our dataframe\n",
    "print(\"---- First 2 Rows (head) ---\")\n",
    "print(rides_df.head(2))\n",
    "\n"
   ]
  },
  {
   "cell_type": "code",
   "execution_count": 9,
   "id": "ec2df6e8-1984-4a81-8b9f-97c42a00f4c1",
   "metadata": {},
   "outputs": [
    {
     "name": "stdout",
     "output_type": "stream",
     "text": [
      "\n",
      "--DataFrame info--\n",
      "<class 'pandas.core.frame.DataFrame'>\n",
      "RangeIndex: 3 entries, 0 to 2\n",
      "Data columns (total 4 columns):\n",
      " #   Column       Non-Null Count  Dtype \n",
      "---  ------       --------------  ----- \n",
      " 0   driver_name  3 non-null      object\n",
      " 1   destination  3 non-null      object\n",
      " 2   distance_km  3 non-null      int64 \n",
      " 3   fare_rs      3 non-null      int64 \n",
      "dtypes: int64(2), object(2)\n",
      "memory usage: 228.0+ bytes\n"
     ]
    }
   ],
   "source": [
    "#get summary of data-types\n",
    "print(\"\\n--DataFrame info--\")\n",
    "rides_df.info()"
   ]
  },
  {
   "cell_type": "code",
   "execution_count": 10,
   "id": "f0626f2d-9c52-46e7-b13c-dd1a9632ac37",
   "metadata": {},
   "outputs": [
    {
     "name": "stdout",
     "output_type": "stream",
     "text": [
      "\n",
      "--- Selecting a Single Column (destination)---\n",
      "0    Koregaon Park\n",
      "1        Hinjawadi\n",
      "2          FC Road\n",
      "Name: destination, dtype: object\n"
     ]
    }
   ],
   "source": [
    "#select a single column (this returns a series)\n",
    "print(\"\\n--- Selecting a Single Column (destination)---\")\n",
    "print(rides_df['destination'])"
   ]
  },
  {
   "cell_type": "code",
   "execution_count": 12,
   "id": "6e4773de-e8a6-423d-899a-5f34c8a957c5",
   "metadata": {},
   "outputs": [
    {
     "name": "stdout",
     "output_type": "stream",
     "text": [
      "--conditional filtering(distance>10km)\n",
      "  driver_name destination  distance_km  fare_rs\n",
      "1        Riya   Hinjawadi           22      450\n"
     ]
    }
   ],
   "source": [
    "print(\"--conditional filtering(distance>10km)\")\n",
    "long_rides = rides_df[rides_df['distance_km']>10]\n",
    "print(long_rides)"
   ]
  },
  {
   "cell_type": "code",
   "execution_count": null,
   "id": "016e44ed-d200-4c51-91b4-f60aa6ce080a",
   "metadata": {},
   "outputs": [],
   "source": []
  }
 ],
 "metadata": {
  "kernelspec": {
   "display_name": "Python 3 (ipykernel)",
   "language": "python",
   "name": "python3"
  },
  "language_info": {
   "codemirror_mode": {
    "name": "ipython",
    "version": 3
   },
   "file_extension": ".py",
   "mimetype": "text/x-python",
   "name": "python",
   "nbconvert_exporter": "python",
   "pygments_lexer": "ipython3",
   "version": "3.13.5"
  }
 },
 "nbformat": 4,
 "nbformat_minor": 5
}
