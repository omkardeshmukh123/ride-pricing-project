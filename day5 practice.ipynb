{
 "cells": [
  {
   "cell_type": "code",
   "execution_count": 3,
   "id": "a2506ca3-783e-4401-94d0-f2e24f8438ca",
   "metadata": {},
   "outputs": [
    {
     "name": "stdout",
     "output_type": "stream",
     "text": [
      "[23, 24, 25, 26, 27, 28, 29]\n",
      "[23 24 25 26 27 28 29]\n",
      "[73.4 75.2 77.  78.8 80.6 82.4 84.2]\n"
     ]
    }
   ],
   "source": [
    "#numpy practice \n",
    "import numpy as np \n",
    "\n",
    "pre_week_temp = [23 , 24 , 25 , 26 , 27 , 28 , 29]\n",
    "print(pre_week_temp)\n",
    "\n",
    "pre_week_temp_arr = np.array(pre_week_temp)\n",
    "print(pre_week_temp_arr)\n",
    "\n",
    "pre_week_temp_arr_farhenheit = pre_week_temp_arr * (9/5) + 32\n",
    "print(pre_week_temp_arr_farhenheit)\n"
   ]
  },
  {
   "cell_type": "code",
   "execution_count": null,
   "id": "f4ea202b-3e7d-401b-a6c8-aa3c9b319356",
   "metadata": {},
   "outputs": [],
   "source": []
  }
 ],
 "metadata": {
  "kernelspec": {
   "display_name": "Python 3 (ipykernel)",
   "language": "python",
   "name": "python3"
  },
  "language_info": {
   "codemirror_mode": {
    "name": "ipython",
    "version": 3
   },
   "file_extension": ".py",
   "mimetype": "text/x-python",
   "name": "python",
   "nbconvert_exporter": "python",
   "pygments_lexer": "ipython3",
   "version": "3.13.5"
  }
 },
 "nbformat": 4,
 "nbformat_minor": 5
}
