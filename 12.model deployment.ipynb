{
 "cells": [
  {
   "cell_type": "code",
   "execution_count": 2,
   "id": "05313469-4539-48a8-aabd-9476efa50c6a",
   "metadata": {},
   "outputs": [
    {
     "name": "stdout",
     "output_type": "stream",
     "text": [
      "Final model and scaler are ready.\n"
     ]
    },
    {
     "name": "stderr",
     "output_type": "stream",
     "text": [
      "C:\\Users\\D A T A\\AppData\\Local\\Temp\\ipykernel_16864\\3064820454.py:26: FutureWarning: A value is trying to be set on a copy of a DataFrame or Series through chained assignment using an inplace method.\n",
      "The behavior will change in pandas 3.0. This inplace method will never work because the intermediate object on which we are setting values always behaves as a copy.\n",
      "\n",
      "For example, when doing 'df[col].method(value, inplace=True)', try using 'df.method({col: value}, inplace=True)' or df[col] = df[col].method(value) instead, to perform the operation inplace on the original object.\n",
      "\n",
      "\n",
      "  df['temperature_celsius'].fillna(df['temperature_celsius'].median(), inplace=True)\n"
     ]
    }
   ],
   "source": [
    "# --- Step 1: Import Libraries ---\n",
    "import pandas as pd\n",
    "import numpy as np\n",
    "from sklearn.preprocessing import StandardScaler\n",
    "from sklearn.ensemble import RandomForestRegressor\n",
    "import joblib\n",
    "\n",
    "# --- Step 2: Load and Process Data ---\n",
    "data = {\n",
    "    'timestamp': pd.to_datetime([\n",
    "        '2025-07-30 08:30:00', '2025-07-30 09:15:00', '2025-07-30 09:45:00',\n",
    "        '2025-07-30 12:00:00', '2025-07-30 13:30:00', '2025-07-30 17:00:00',\n",
    "        '2025-07-30 18:30:00', '2025-07-30 19:00:00', '2025-07-30 21:00:00',\n",
    "        '2025-07-30 22:30:00'\n",
    "    ]),\n",
    "    'cab_type': ['Mini', 'Sedan', 'Mini', 'Sedan', 'Mini', 'SUV', 'Sedan', 'Mini', 'Sedan', 'Mini'],\n",
    "    'distance_km': [5.5, 12.1, 3.2, 8.0, 4.5, 6.7, 15.3, 4.1, 9.8, 7.6],\n",
    "    'temperature_celsius': [28.5, 29.0, 29.2, 32.0, 31.5, 29.8, 27.5, np.nan, 26.0, 25.5],\n",
    "    'weather_condition': ['Clear', 'Clear', 'Clear', 'Clear', 'Clear', 'Rainy', 'Rainy', 'Rainy', 'Clear', 'Foggy'],\n",
    "    'demand_multiplier': [1.0, 1.5, 1.2, 1.0, 1.0, 2.0, 2.5, 2.2, 1.2, 1.8]\n",
    "}\n",
    "\n",
    "df = pd.DataFrame(data)\n",
    "\n",
    "# Handle missing values (if any were there)\n",
    "df['temperature_celsius'].fillna(df['temperature_celsius'].median(), inplace=True)\n",
    "\n",
    "\n",
    "# One-Hot Encode\n",
    "df_encoded = pd.get_dummies(df, columns=['cab_type', 'weather_condition'],drop_first=True)\n",
    "\n",
    "#feature engineering\n",
    "df_encoded['timestamp'] = pd.to_datetime(df_encoded['timestamp'])\n",
    "df_encoded['hour_of_day'] = df_encoded['timestamp'].dt.hour\n",
    "df_encoded['day_of_week'] = df_encoded['timestamp'].dt.dayofweek\n",
    "df_encoded['is_weekend'] = (df_encoded['timestamp'].dt.dayofweek >= 5).astype(int)\n",
    "df_final = df_encoded.drop('timestamp', axis=1)\n",
    "\n",
    "# --- Step 3: Prepare Data for Modeling ---\n",
    "X = df_final.drop('demand_multiplier', axis=1)\n",
    "y = df_final['demand_multiplier']\n",
    "\n",
    "# --- Step 4: Scale Features ---\n",
    "scaler = StandardScaler()\n",
    "X_scaled = scaler.fit_transform(X)\n",
    "\n",
    "\n",
    "# --- Step 5: Train the Final Model ---\n",
    "rf_model = RandomForestRegressor(n_estimators=100, random_state=42, n_jobs=-1)\n",
    "rf_model.fit(X_scaled,y)\n",
    "\n",
    "print(\"Final model and scaler are ready.\")\n",
    "\n",
    "\n",
    "\n"
   ]
  },
  {
   "cell_type": "code",
   "execution_count": 3,
   "id": "77d02e35-305c-4b46-9f17-51f57e25a53f",
   "metadata": {},
   "outputs": [
    {
     "name": "stdout",
     "output_type": "stream",
     "text": [
      "Model saved to 'rf_model.joblib'\n",
      "Scaler saved to 'scaler.joblib'\n"
     ]
    }
   ],
   "source": [
    "#save the trained model to the file\n",
    "joblib.dump(rf_model , 'rf_model.joblib')\n",
    "print(\"Model saved to 'rf_model.joblib'\")\n",
    "\n",
    "# Save the scaler to a file\n",
    "joblib.dump(scaler, 'scaler.joblib')\n",
    "print(\"Scaler saved to 'scaler.joblib'\")\n",
    "\n",
    "\n"
   ]
  },
  {
   "cell_type": "code",
   "execution_count": null,
   "id": "ed3371b9-2c67-4ae2-82d4-d10ed365b7b2",
   "metadata": {},
   "outputs": [],
   "source": []
  }
 ],
 "metadata": {
  "kernelspec": {
   "display_name": "Python 3 (ipykernel)",
   "language": "python",
   "name": "python3"
  },
  "language_info": {
   "codemirror_mode": {
    "name": "ipython",
    "version": 3
   },
   "file_extension": ".py",
   "mimetype": "text/x-python",
   "name": "python",
   "nbconvert_exporter": "python",
   "pygments_lexer": "ipython3",
   "version": "3.13.5"
  }
 },
 "nbformat": 4,
 "nbformat_minor": 5
}
